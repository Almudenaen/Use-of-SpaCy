{
 "cells": [
  {
   "cell_type": "code",
   "execution_count": 1,
   "id": "5c91ad0b",
   "metadata": {},
   "outputs": [],
   "source": [
    "# Importar las librerías necesarias\n",
    "import numpy as np\n",
    "import pandas as pd\n",
    "import pdfplumber\n",
    "import spacy\n",
    "import re"
   ]
  },
  {
   "cell_type": "markdown",
   "id": "4fefb5cd",
   "metadata": {},
   "source": [
    "# ETL (Extract, Transform, Load)"
   ]
  },
  {
   "cell_type": "markdown",
   "id": "b5f1cca2",
   "metadata": {},
   "source": [
    "## Extracción (Extract)"
   ]
  },
  {
   "cell_type": "code",
   "execution_count": 2,
   "id": "db9c271e",
   "metadata": {},
   "outputs": [],
   "source": [
    "# Extraer el texto del pdf: \n",
    "texto_extraido = \"\"\n",
    "with pdfplumber.open(\"anexo-15.pdf\") as pdf:\n",
    "    for page in pdf.pages:\n",
    "        texto = page.extract_text()\n",
    "        texto_extraido = (texto_extraido + texto + \"\\n\\n\") # Convertimos el pdf en un string separando cada pagina con 2 saltos de línea              "
   ]
  },
  {
   "cell_type": "markdown",
   "id": "2d9a619f",
   "metadata": {},
   "source": [
    "## Transformación (Transform)"
   ]
  },
  {
   "cell_type": "markdown",
   "id": "f92bba21",
   "metadata": {},
   "source": [
    "#### Eliminar los pies de página"
   ]
  },
  {
   "cell_type": "code",
   "execution_count": 3,
   "id": "ab5ec876",
   "metadata": {},
   "outputs": [],
   "source": [
    "# Eliminamos las 5 últimas líneas de todas las páginas:\n",
    "\n",
    "# Dividir el texto en líneas\n",
    "lineas = texto_extraido.split(\"\\n\")\n",
    "\n",
    "# Identificar posiciones de final de página:\n",
    "finales_de_pagina = []\n",
    "for i in range(len(lineas)):                \n",
    "    if lineas[i]== \"\" :\n",
    "        finales_de_pagina.append(i)\n",
    "        \n",
    "# Marcar las 5 últimas líneas de cada página:\n",
    "lineas_a_eliminar = []\n",
    "for linea in finales_de_pagina:\n",
    "    for i in range(linea - 5, linea):\n",
    "        lineas_a_eliminar.append(i)\n",
    "\n",
    "# Filtrar el texto por las líneas que queremos mantener:\n",
    "lineas_filtradas = [linea for i, linea in enumerate(lineas) if i not in lineas_a_eliminar]\n",
    "\n",
    "# Reconstruir el texto limpio\n",
    "texto_limpio = \"\\n\".join(lineas_filtradas)"
   ]
  },
  {
   "cell_type": "code",
   "execution_count": 4,
   "id": "28a9d54f",
   "metadata": {},
   "outputs": [],
   "source": [
    "#Eliminamos 2 líneas de pie de página más que no aparecen en todas las páginas:\n",
    "\n",
    "from collections import Counter\n",
    "\n",
    "# Dividir el texto en líneas\n",
    "lineas = texto_limpio.split(\"\\n\")\n",
    "\n",
    "# Contar frecuencia de cada línea\n",
    "frecuencias = Counter(lineas)\n",
    "\n",
    "# Filtrar líneas cuya frecuencia (18) corresponde a los pies de página:\n",
    "umbral = 18  \n",
    "lineas_filtradas = [linea for linea in lineas if frecuencias[linea] != umbral]\n",
    "\n",
    "# Reconstruir el texto limpio\n",
    "texto = \"\\n\".join(lineas_filtradas)"
   ]
  },
  {
   "cell_type": "markdown",
   "id": "898867ba",
   "metadata": {},
   "source": [
    "#### POS y lemma"
   ]
  },
  {
   "cell_type": "markdown",
   "id": "4784625d",
   "metadata": {},
   "source": [
    "- POS (Parts of Speech) tagging: Etiquetado de categoría gramatical \n",
    "\n",
    "- Lematización: Reducción de las palabras a su forma base o lema"
   ]
  },
  {
   "cell_type": "code",
   "execution_count": 5,
   "id": "67c659bb",
   "metadata": {},
   "outputs": [],
   "source": [
    "# Procesamiento de lenguaje natural con spacy: \n",
    "nlp = spacy.load(\"es_core_news_lg\")"
   ]
  },
  {
   "cell_type": "code",
   "execution_count": 6,
   "id": "5b58a950",
   "metadata": {},
   "outputs": [
    {
     "data": {
      "application/vnd.microsoft.datawrangler.viewer.v0+json": {
       "columns": [
        {
         "name": "index",
         "rawType": "int64",
         "type": "integer"
        },
        {
         "name": "Texto",
         "rawType": "object",
         "type": "string"
        },
        {
         "name": "Lema",
         "rawType": "object",
         "type": "string"
        },
        {
         "name": "POS",
         "rawType": "object",
         "type": "string"
        }
       ],
       "ref": "b2e39d23-d5d0-4907-b0ee-8885a6dd355c",
       "rows": [
        [
         "0",
         "DEPARTAMENTO",
         "DEPARTAMENTO",
         "PROPN"
        ],
        [
         "1",
         "DE",
         "DE",
         "ADP"
        ],
        [
         "2",
         "\n",
         "\n",
         "SPACE"
        ],
        [
         "3",
         "INSPECCIÓN",
         "inspección",
         "NOUN"
        ],
        [
         "4",
         "Y",
         "Y",
         "CCONJ"
        ],
        [
         "5",
         "CONTROL",
         "control",
         "NOUN"
        ],
        [
         "6",
         "DE",
         "DE",
         "ADP"
        ],
        [
         "7",
         "\n",
         "\n",
         "SPACE"
        ],
        [
         "8",
         "MEDICAMENTOS",
         "MEDICAMENTOS",
         "PROPN"
        ],
        [
         "9",
         "\n",
         "\n",
         "SPACE"
        ],
        [
         "10",
         "Guía",
         "Guía",
         "PROPN"
        ],
        [
         "11",
         "de",
         "de",
         "ADP"
        ],
        [
         "12",
         "Normas",
         "norma",
         "NOUN"
        ],
        [
         "13",
         "de",
         "de",
         "ADP"
        ],
        [
         "14",
         "Correcta",
         "Correcta",
         "PROPN"
        ],
        [
         "15",
         "Fabricación",
         "Fabricación",
         "PROPN"
        ],
        [
         "16",
         "de",
         "de",
         "ADP"
        ],
        [
         "17",
         "\n",
         "\n",
         "SPACE"
        ],
        [
         "18",
         "Medicamentos",
         "Medicamentos",
         "PROPN"
        ],
        [
         "19",
         "de",
         "de",
         "ADP"
        ],
        [
         "20",
         "Uso",
         "Uso",
         "PROPN"
        ],
        [
         "21",
         "Humano",
         "Humano",
         "PROPN"
        ],
        [
         "22",
         "y",
         "y",
         "CCONJ"
        ],
        [
         "23",
         "Veterinario",
         "Veterinario",
         "PROPN"
        ],
        [
         "24",
         "\n",
         "\n",
         "SPACE"
        ],
        [
         "25",
         "Anexo",
         "Anexo",
         "PROPN"
        ],
        [
         "26",
         "15",
         "15",
         "NUM"
        ],
        [
         "27",
         ":",
         ":",
         "PUNCT"
        ],
        [
         "28",
         "Cualificación",
         "Cualificación",
         "PROPN"
        ],
        [
         "29",
         "y",
         "y",
         "CCONJ"
        ],
        [
         "30",
         "validación",
         "validación",
         "NOUN"
        ],
        [
         "31",
         "\n",
         "\n",
         "SPACE"
        ],
        [
         "32",
         "Bases",
         "base",
         "NOUN"
        ],
        [
         "33",
         "legales",
         "legal",
         "ADJ"
        ],
        [
         "34",
         "para",
         "para",
         "ADP"
        ],
        [
         "35",
         "la",
         "el",
         "DET"
        ],
        [
         "36",
         "publicación",
         "publicación",
         "NOUN"
        ],
        [
         "37",
         "de",
         "de",
         "ADP"
        ],
        [
         "38",
         "guías",
         "guía",
         "NOUN"
        ],
        [
         "39",
         "detalladas",
         "detallado",
         "ADJ"
        ],
        [
         "40",
         ":",
         ":",
         "PUNCT"
        ],
        [
         "41",
         "artículo",
         "artículo",
         "NOUN"
        ],
        [
         "42",
         "47",
         "47",
         "NUM"
        ],
        [
         "43",
         "de",
         "de",
         "ADP"
        ],
        [
         "44",
         "la",
         "el",
         "DET"
        ],
        [
         "45",
         "Directiva",
         "Directiva",
         "PROPN"
        ],
        [
         "46",
         "2001/83",
         "2001/83",
         "NOUN"
        ],
        [
         "47",
         "/",
         "/",
         "PUNCT"
        ],
        [
         "48",
         "CE",
         "CE",
         "PROPN"
        ],
        [
         "49",
         ",",
         ",",
         "PUNCT"
        ]
       ],
       "shape": {
        "columns": 3,
        "rows": 8682
       }
      },
      "text/html": [
       "<div>\n",
       "<style scoped>\n",
       "    .dataframe tbody tr th:only-of-type {\n",
       "        vertical-align: middle;\n",
       "    }\n",
       "\n",
       "    .dataframe tbody tr th {\n",
       "        vertical-align: top;\n",
       "    }\n",
       "\n",
       "    .dataframe thead th {\n",
       "        text-align: right;\n",
       "    }\n",
       "</style>\n",
       "<table border=\"1\" class=\"dataframe\">\n",
       "  <thead>\n",
       "    <tr style=\"text-align: right;\">\n",
       "      <th></th>\n",
       "      <th>Texto</th>\n",
       "      <th>Lema</th>\n",
       "      <th>POS</th>\n",
       "    </tr>\n",
       "  </thead>\n",
       "  <tbody>\n",
       "    <tr>\n",
       "      <th>0</th>\n",
       "      <td>DEPARTAMENTO</td>\n",
       "      <td>DEPARTAMENTO</td>\n",
       "      <td>PROPN</td>\n",
       "    </tr>\n",
       "    <tr>\n",
       "      <th>1</th>\n",
       "      <td>DE</td>\n",
       "      <td>DE</td>\n",
       "      <td>ADP</td>\n",
       "    </tr>\n",
       "    <tr>\n",
       "      <th>2</th>\n",
       "      <td>\\n</td>\n",
       "      <td>\\n</td>\n",
       "      <td>SPACE</td>\n",
       "    </tr>\n",
       "    <tr>\n",
       "      <th>3</th>\n",
       "      <td>INSPECCIÓN</td>\n",
       "      <td>inspección</td>\n",
       "      <td>NOUN</td>\n",
       "    </tr>\n",
       "    <tr>\n",
       "      <th>4</th>\n",
       "      <td>Y</td>\n",
       "      <td>Y</td>\n",
       "      <td>CCONJ</td>\n",
       "    </tr>\n",
       "    <tr>\n",
       "      <th>...</th>\n",
       "      <td>...</td>\n",
       "      <td>...</td>\n",
       "      <td>...</td>\n",
       "    </tr>\n",
       "    <tr>\n",
       "      <th>8677</th>\n",
       "      <td>la</td>\n",
       "      <td>el</td>\n",
       "      <td>DET</td>\n",
       "    </tr>\n",
       "    <tr>\n",
       "      <th>8678</th>\n",
       "      <td>\\n</td>\n",
       "      <td>\\n</td>\n",
       "      <td>SPACE</td>\n",
       "    </tr>\n",
       "    <tr>\n",
       "      <th>8679</th>\n",
       "      <td>venta</td>\n",
       "      <td>venta</td>\n",
       "      <td>NOUN</td>\n",
       "    </tr>\n",
       "    <tr>\n",
       "      <th>8680</th>\n",
       "      <td>.</td>\n",
       "      <td>.</td>\n",
       "      <td>PUNCT</td>\n",
       "    </tr>\n",
       "    <tr>\n",
       "      <th>8681</th>\n",
       "      <td>\\n</td>\n",
       "      <td>\\n</td>\n",
       "      <td>SPACE</td>\n",
       "    </tr>\n",
       "  </tbody>\n",
       "</table>\n",
       "<p>8682 rows × 3 columns</p>\n",
       "</div>"
      ],
      "text/plain": [
       "             Texto          Lema    POS\n",
       "0     DEPARTAMENTO  DEPARTAMENTO  PROPN\n",
       "1               DE            DE    ADP\n",
       "2               \\n            \\n  SPACE\n",
       "3       INSPECCIÓN    inspección   NOUN\n",
       "4                Y             Y  CCONJ\n",
       "...            ...           ...    ...\n",
       "8677            la            el    DET\n",
       "8678            \\n            \\n  SPACE\n",
       "8679         venta         venta   NOUN\n",
       "8680             .             .  PUNCT\n",
       "8681            \\n            \\n  SPACE\n",
       "\n",
       "[8682 rows x 3 columns]"
      ]
     },
     "execution_count": 6,
     "metadata": {},
     "output_type": "execute_result"
    }
   ],
   "source": [
    "# Obtención de POS y lema para cada elemento del texto:\n",
    "datos = []\n",
    "doc = nlp(texto)\n",
    "for token in doc:\n",
    "    datos.append({\n",
    "        \"Texto\": token.text,\n",
    "        \"Lema\": token.lemma_,\n",
    "        \"POS\": token.pos_\n",
    "    })\n",
    "df = pd.DataFrame(datos)\n",
    "df "
   ]
  },
  {
   "cell_type": "code",
   "execution_count": 7,
   "id": "66ddfd04",
   "metadata": {},
   "outputs": [
    {
     "data": {
      "application/vnd.microsoft.datawrangler.viewer.v0+json": {
       "columns": [
        {
         "name": "POS",
         "rawType": "object",
         "type": "string"
        },
        {
         "name": "count",
         "rawType": "int64",
         "type": "integer"
        }
       ],
       "ref": "0a2ea3b4-3b0f-4cc4-8be3-217459897cb1",
       "rows": [
        [
         "NOUN",
         "2015"
        ],
        [
         "ADP",
         "1436"
        ],
        [
         "DET",
         "1215"
        ],
        [
         "PUNCT",
         "867"
        ],
        [
         "SPACE",
         "616"
        ],
        [
         "ADJ",
         "575"
        ],
        [
         "VERB",
         "437"
        ],
        [
         "AUX",
         "316"
        ],
        [
         "CCONJ",
         "309"
        ],
        [
         "PROPN",
         "285"
        ],
        [
         "PRON",
         "224"
        ],
        [
         "SCONJ",
         "137"
        ],
        [
         "NUM",
         "128"
        ],
        [
         "ADV",
         "121"
        ],
        [
         "PART",
         "1"
        ]
       ],
       "shape": {
        "columns": 1,
        "rows": 15
       }
      },
      "text/plain": [
       "POS\n",
       "NOUN     2015\n",
       "ADP      1436\n",
       "DET      1215\n",
       "PUNCT     867\n",
       "SPACE     616\n",
       "ADJ       575\n",
       "VERB      437\n",
       "AUX       316\n",
       "CCONJ     309\n",
       "PROPN     285\n",
       "PRON      224\n",
       "SCONJ     137\n",
       "NUM       128\n",
       "ADV       121\n",
       "PART        1\n",
       "Name: count, dtype: int64"
      ]
     },
     "execution_count": 7,
     "metadata": {},
     "output_type": "execute_result"
    }
   ],
   "source": [
    "# ¿Cuántas categorías gramaticales hay?\n",
    "df[\"POS\"].value_counts()"
   ]
  },
  {
   "cell_type": "code",
   "execution_count": 8,
   "id": "9a2dc212",
   "metadata": {},
   "outputs": [],
   "source": [
    "# Normalizar formato (poner los lemas en minúscula): \n",
    "df[\"Lema\"]= df[\"Lema\"].str.lower()"
   ]
  },
  {
   "cell_type": "code",
   "execution_count": 9,
   "id": "78efd7cd",
   "metadata": {},
   "outputs": [
    {
     "data": {
      "application/vnd.microsoft.datawrangler.viewer.v0+json": {
       "columns": [
        {
         "name": "Lema",
         "rawType": "object",
         "type": "string"
        },
        {
         "name": "count",
         "rawType": "int64",
         "type": "integer"
        }
       ],
       "ref": "60f85dfa-f2f5-4c42-aaf3-57b57d873f20",
       "rows": [
        [
         "proceso",
         "115"
        ],
        [
         "validación",
         "108"
        ],
        [
         "producto",
         "78"
        ],
        [
         "equipo",
         "47"
        ],
        [
         "calidad",
         "43"
        ],
        [
         "producción",
         "36"
        ],
        [
         "limpieza",
         "35"
        ],
        [
         "cualificación",
         "34"
        ],
        [
         "lote",
         "32"
        ],
        [
         "instalación",
         "30"
        ],
        [
         "enfoque",
         "30"
        ],
        [
         "sistema",
         "29"
        ],
        [
         "verificación",
         "29"
        ],
        [
         "control",
         "28"
        ],
        [
         "cambio",
         "28"
        ]
       ],
       "shape": {
        "columns": 1,
        "rows": 15
       }
      },
      "text/plain": [
       "Lema\n",
       "proceso          115\n",
       "validación       108\n",
       "producto          78\n",
       "equipo            47\n",
       "calidad           43\n",
       "producción        36\n",
       "limpieza          35\n",
       "cualificación     34\n",
       "lote              32\n",
       "instalación       30\n",
       "enfoque           30\n",
       "sistema           29\n",
       "verificación      29\n",
       "control           28\n",
       "cambio            28\n",
       "Name: count, dtype: int64"
      ]
     },
     "execution_count": 9,
     "metadata": {},
     "output_type": "execute_result"
    }
   ],
   "source": [
    "# ¿Cuáles son los sustantivos que más se repiten?\n",
    "df[\"Lema\"][df[\"POS\"]== 'NOUN'].value_counts().head(15)"
   ]
  },
  {
   "cell_type": "code",
   "execution_count": 10,
   "id": "07b1ae6c",
   "metadata": {},
   "outputs": [
    {
     "data": {
      "application/vnd.microsoft.datawrangler.viewer.v0+json": {
       "columns": [
        {
         "name": "Lema",
         "rawType": "object",
         "type": "string"
        },
        {
         "name": "count",
         "rawType": "int64",
         "type": "integer"
        }
       ],
       "ref": "6d2116a0-9438-49c2-8162-4af53ab2ab89",
       "rows": [
        [
         "deber",
         "141"
        ],
        [
         "ser",
         "68"
        ],
        [
         "poder",
         "52"
        ],
        [
         "estar",
         "29"
        ],
        [
         "haber",
         "24"
        ],
        [
         "utilizar",
         "15"
        ],
        [
         "confirmar",
         "15"
        ],
        [
         "incluir",
         "14"
        ],
        [
         "considerar",
         "11"
        ],
        [
         "cumplir",
         "11"
        ],
        [
         "realizar",
         "10"
        ],
        [
         "demostrar",
         "10"
        ],
        [
         "tener",
         "10"
        ],
        [
         "definir",
         "9"
        ],
        [
         "evaluar",
         "8"
        ]
       ],
       "shape": {
        "columns": 1,
        "rows": 15
       }
      },
      "text/plain": [
       "Lema\n",
       "deber         141\n",
       "ser            68\n",
       "poder          52\n",
       "estar          29\n",
       "haber          24\n",
       "utilizar       15\n",
       "confirmar      15\n",
       "incluir        14\n",
       "considerar     11\n",
       "cumplir        11\n",
       "realizar       10\n",
       "demostrar      10\n",
       "tener          10\n",
       "definir         9\n",
       "evaluar         8\n",
       "Name: count, dtype: int64"
      ]
     },
     "execution_count": 10,
     "metadata": {},
     "output_type": "execute_result"
    }
   ],
   "source": [
    "# ¿Cuáles son los verbos que más aparecen?\n",
    "df[\"Lema\"][df[\"POS\"].isin(['AUX','VERB'])].value_counts().head(15)"
   ]
  },
  {
   "cell_type": "code",
   "execution_count": 11,
   "id": "8ad0d279",
   "metadata": {},
   "outputs": [
    {
     "data": {
      "application/vnd.microsoft.datawrangler.viewer.v0+json": {
       "columns": [
        {
         "name": "Lema",
         "rawType": "object",
         "type": "string"
        },
        {
         "name": "count",
         "rawType": "int64",
         "type": "integer"
        }
       ],
       "ref": "3390e585-235e-407f-864f-e7066717bf4b",
       "rows": [
        [
         "documentado",
         "14"
        ],
        [
         "utilizado",
         "11"
        ],
        [
         "aprobado",
         "11"
        ],
        [
         "justificado",
         "10"
        ],
        [
         "definido",
         "10"
        ],
        [
         "apropiado",
         "10"
        ],
        [
         "continuo",
         "10"
        ],
        [
         "siguiente",
         "10"
        ],
        [
         "tradicional",
         "9"
        ],
        [
         "necesario",
         "9"
        ],
        [
         "aceptable",
         "9"
        ],
        [
         "crítico",
         "9"
        ],
        [
         "validado",
         "8"
        ],
        [
         "aplicable",
         "7"
        ],
        [
         "importante",
         "7"
        ]
       ],
       "shape": {
        "columns": 1,
        "rows": 15
       }
      },
      "text/plain": [
       "Lema\n",
       "documentado    14\n",
       "utilizado      11\n",
       "aprobado       11\n",
       "justificado    10\n",
       "definido       10\n",
       "apropiado      10\n",
       "continuo       10\n",
       "siguiente      10\n",
       "tradicional     9\n",
       "necesario       9\n",
       "aceptable       9\n",
       "crítico         9\n",
       "validado        8\n",
       "aplicable       7\n",
       "importante      7\n",
       "Name: count, dtype: int64"
      ]
     },
     "execution_count": 11,
     "metadata": {},
     "output_type": "execute_result"
    }
   ],
   "source": [
    "# ¿Cuáles son los sustantivos que más se repiten?\n",
    "df[\"Lema\"][df[\"POS\"]== 'ADJ'].value_counts().head(15)"
   ]
  },
  {
   "cell_type": "markdown",
   "id": "96c29a14",
   "metadata": {},
   "source": [
    "## Carga (Load)"
   ]
  },
  {
   "cell_type": "code",
   "execution_count": 12,
   "id": "96c7ce59",
   "metadata": {},
   "outputs": [],
   "source": [
    "#Guardar el DataFrame en un archivo CSV: \n",
    "df.to_csv('anexo-15.csv')"
   ]
  },
  {
   "cell_type": "markdown",
   "id": "4ba670a0",
   "metadata": {},
   "source": [
    "# Aprendizajes e intentos "
   ]
  },
  {
   "cell_type": "markdown",
   "id": "fb139f55",
   "metadata": {},
   "source": [
    "#### Decidir si trabajar con el texto completo o por fragmentos (epígrafes)"
   ]
  },
  {
   "cell_type": "markdown",
   "id": "439cbe5a",
   "metadata": {},
   "source": [
    "- Finalmente he optado por trabajar con el texto completo al no encontrar diferencias significativas en los resultados y para preservar mejor el contexto.\n",
    "- La división por epígrafes no ha sido del todo satisfactoria a pesar de usar regex para afinar el filtro. "
   ]
  },
  {
   "cell_type": "code",
   "execution_count": 13,
   "id": "5010d7f7",
   "metadata": {},
   "outputs": [
    {
     "data": {
      "application/vnd.microsoft.datawrangler.viewer.v0+json": {
       "columns": [
        {
         "name": "index",
         "rawType": "int64",
         "type": "integer"
        },
        {
         "name": "0",
         "rawType": "object",
         "type": "unknown"
        },
        {
         "name": "1",
         "rawType": "object",
         "type": "unknown"
        },
        {
         "name": "2",
         "rawType": "object",
         "type": "unknown"
        },
        {
         "name": "3",
         "rawType": "object",
         "type": "unknown"
        },
        {
         "name": "4",
         "rawType": "object",
         "type": "string"
        },
        {
         "name": "5",
         "rawType": "object",
         "type": "unknown"
        },
        {
         "name": "6",
         "rawType": "object",
         "type": "unknown"
        },
        {
         "name": "7",
         "rawType": "object",
         "type": "unknown"
        },
        {
         "name": "8",
         "rawType": "object",
         "type": "unknown"
        },
        {
         "name": "9",
         "rawType": "object",
         "type": "unknown"
        },
        {
         "name": "10",
         "rawType": "object",
         "type": "unknown"
        },
        {
         "name": "11",
         "rawType": "object",
         "type": "unknown"
        },
        {
         "name": "12",
         "rawType": "object",
         "type": "string"
        },
        {
         "name": "13",
         "rawType": "object",
         "type": "unknown"
        },
        {
         "name": "14",
         "rawType": "object",
         "type": "unknown"
        },
        {
         "name": "15",
         "rawType": "object",
         "type": "unknown"
        },
        {
         "name": "16",
         "rawType": "object",
         "type": "unknown"
        },
        {
         "name": "17",
         "rawType": "object",
         "type": "unknown"
        },
        {
         "name": "18",
         "rawType": "object",
         "type": "unknown"
        }
       ],
       "ref": "f884fdbd-e97f-4762-90ba-1fa1a136bf85",
       "rows": [
        [
         "0",
         "DEPARTAMENTO DE\nINSPECCIÓN Y CONTROL DE\nMEDICAMENTOS",
         "Principio\nEste anexo describe los principios de cualificación y validación que son aplicables a las\ninstalaciones, los equipos, los servicios y los procesos utilizados para la fabricación de\nmedicamentos y puede ser, asimismo, utilizado como una orientación suplementaria opcional\npara los principios activos sin la introducción de requisitos adicionales en la parte II del Volumen 4\nde EudraLex. Es un requisito de las normas de correcta fabricación el que los fabricantes\ncontrolen los aspectos críticos de sus operaciones particulares mediante la cualificación y la\nvalidación a lo largo del ciclo de vida del producto y del proceso. Cualquier cambio planificado de\nlas instalaciones, los equipos, los servicios y los procesos que pueda afectar a la calidad del\nproducto, debe documentarse formalmente y debe evaluarse el impacto sobre el estado validado\no sobre la estrategia de control. Los sistemas informatizados utilizados para la fabricación de\nmedicamentos también deben validarse, de acuerdo con los requisitos del anexo 11. Asimismo,\ndeben tenerse en cuenta los conceptos y las orientaciones pertinentes expuestos en las ICH Q8,\nQ9, Q10 y Q11.",
         "1.4. Los elementos clave del programa de cualificación y de validación de la planta deben\ndefinirse con claridad y documentarse en un Plan Maestro de Validación (PMV) o en un\ndocumento equivalente.",
         "2.2. Todos los documentos generados durante la cualificación y la validación deben ser\naprobados y autorizados por el personal apropiado, con arreglo a lo definido en el sistema de\ncalidad farmacéutico.",
         "3. ETAPAS DE CUALIFICACIÓN DE EQUIPOS, INSTALACIONES, SERVICIOS Y SISTEMAS.",
         "3.9. La IQ debe incluir, entre otros aspectos, lo siguiente:\ni. Comprobación de que la instalación de los componentes, los instrumentos, los equipos, las\nconducciones y los servicios es conforme con los planos y especificaciones de ingeniería;\nii. Verificación de la correcta instalación según los criterios previamente definidos;\niii. Recopilación y cotejo de las instrucciones de funcionamiento y de trabajo del proveedor y\nde las exigencias de mantenimiento;\niv. Calibración del instrumental;\nv. Verificación de los materiales de construcción.",
         "ii. Las pruebas deben cubrir el rango de funcionamiento del proceso previsto, salvo que se\ndisponga de pruebas documentadas procedentes de las fases de desarrollo que confirmen\nlos rangos de funcionamiento.",
         "5.4. La validación del proceso de nuevos productos debe cubrir todas las concentraciones que\nse pretende comercializar y todas las plantas de producción. Se podría justificar el “bracketing”\npara nuevos productos basándose en un conocimiento amplio del proceso desde la etapa de\ndesarrollo, en conjunción con un programa de verificación en curso apropiado.",
         "5.13. Es especialmente importante que, con el objetivo de confirmar una estrategia de control del\nproceso determinada, se disponga del conocimiento subyacente del proceso para la justificación\ndel espacio de diseño (si se usa) y para el desarrollo de cualquier modelo matemático (si se usa).",
         "5.21. Debe prepararse un protocolo de validación del proceso que defina los parámetros de\nproceso críticos (del inglés Critical Process Parameters, CPP), los atributos de calidad críticos\n(del inglés Critical Quality Attributes, CQA) y los criterios de aceptación asociados, los cuales\ndeben basarse en los datos de desarrollo o en el conocimiento documentado del proceso.",
         "consecución del producto. Esto también debe incluir una evaluación periódica de la estrategia de\ncontrol. Se pueden utilizar como herramientas la tecnología analítica de procesos (del inglés\nProcess Analytical Technology, PAT) y el control estadístico multivariante procesos. Cada\nfabricante debe determinar y justificar el número de lotes necesarios para demostrar un alto nivel\nde seguridad de que el proceso es capaz de proporcionar de manera consistente la calidad del\nproducto.",
         "6. VERIFICACIÓN DEL TRANSPORTE",
         "8.3. Para mitigar cualquier riesgo de fallo, debe llevarse a cabo una evaluación de riesgos cuando\npudiera haber contacto directo con el producto, como por ejemplo en los Sistemas de\nCalefacción, Ventilación y tratamiento de Aire (HVAC), o un contacto indirecto con el producto,\ncomo a través de intercambiadores de calor.",
         "ejemplo, los operarios, el nivel de detalle en los procedimientos de limpieza tales como tiempos\nde aclarado, etc. Si se han identificado factores variables, deben utilizarse las situaciones de peor\ncaso como la base para los estudios de validación de la limpieza.",
         "el resultado. Debe demostrarse que es posible la recuperación a partir de todos los materiales en\ncontacto con producto muestreados, con todos los métodos de muestreo utilizados.",
         "12. GLOSARIO\nA continuación se dan las definiciones de los términos relativos a la cualificación y la validación\nque no se dan actualmente en otras secciones del Eudralex, Volumen 4.",
         "La verificación documentada de que las instalaciones, los sistemas y los equipos, tal y como se\nhan instalado o modificado, cumplen con el diseño aprobado y con las recomendaciones del\nfabricante.",
         "Especificación de requisitos de usuario\nEl conjunto de requisitos del propietario, del usuario y de ingeniería necesarios y suficientes para\ncrear un diseño factible con la finalidad prevista del sistema.",
         "Verificación de la limpieza\nLa obtención de evidencias a través de análisis químicos después de cada lote y/ o campaña para\ndemostrar que los residuos del producto anterior o de los agentes de limpieza se han reducido por\ndebajo del límite máximo de arrastre permitido establecido científicamente."
        ],
        [
         "1",
         "Guía de Normas de Correcta Fabricación de\nMedicamentos de Uso Humano y Veterinario\nAnexo 15: Cualificación y validación\nBases legales para la publicación de guías detalladas: artículo 47 de la Directiva 2001/83/CE,\npor la que se establece un código comunitario sobre medicamentos para uso humano, y artículo\n51 de la Directiva 2001/82/CE, por la que se establece un código comunitario sobre\nmedicamentos veterinarios. Este documento proporciona una orientación para la interpretación de\nlos principios y directrices de las Normas de Correcta Fabricación (NCF) de los medicamentos,\ncomo se establece en la Directiva 2003/94/CE de medicamentos de uso humano y en la Directiva\n91/412/CEE de medicamentos de uso veterinario.",
         "General\nDebe emplearse un enfoque de la gestión de riesgos para la calidad a lo largo de todo el ciclo de\nvida de un medicamento. Como parte de un sistema de gestión de riesgos para la calidad, las\ndecisiones sobre el ámbito y el alcance de la cualificación y de la validación deben basarse en\nuna evaluación de riesgos justificada y documentada de las instalaciones, los equipos, los\nservicios y los procesos. La validación retrospectiva ya no se considera un enfoque válido. Los\ndatos que respaldan los estudios de cualificación y/ o de validación, los cuales hayan sido\nobtenidos de fuentes externas a los programas propios de los fabricantes, podrán utilizarse\nsiempre que este enfoque se haya justificado y exista una garantía suficiente de la existencia de\nsistemas de control adecuados durante todo el proceso de adquisición de tales datos.",
         "1.5. El PMV o documento equivalente debe definir el sistema de cualificación y/ o de validación\ne incluir, como mínimo, la información, o hacer referencia a la misma, sobre los siguientes\naspectos:\ni. Política de cualificación y de validación;\nii. Estructura organizativa, incluidos los roles y las responsabilidades sobre las actividades de\ncualificación y de validación;\niii. Resumen de las instalaciones, los equipos, los sistemas y los procesos de la planta de\nproducción y el estatus de cualificación y la validación;\niv. Gestión de los controles de cambios y de las desviaciones para la cualificación y la\nvalidación;\nv. Orientación sobre el desarrollo de los criterios de aceptación;\nvi. Referencias a los documentos existentes;\nvii. La estrategia de cualificación y de validación, incluida la recualificación, cuando sea de\naplicación.",
         "2.3. En los proyectos de validación complejos, se debe definir con claridad la interrelación entre\nlos distintos documentos.",
         "3.1. En las actividades de cualificación deben considerarse todas las etapas, desde el\ndesarrollo inicial de la especificación de los requisitos de usuario hasta la finalización del uso del\nequipo, la instalación, el servicio o el sistema. A continuación se indican las principales etapas y\nse proponen algunos criterios, que podrían incluirse en cada etapa (aunque esto depende de las\ncircunstancias individuales de cada proyecto y podrían ser diferentes en cada caso):",
         "Cualificación del funcionamiento (del inglés Operational Qualification, OQ)",
         "4. RECUALIFICACIÓN",
         "5.5. En la validación del proceso de productos que son transferidos de una planta de\nproducción a otra o dentro de la misma planta de producción, el número de lotes de validación\npodría reducirse utilizando el enfoque de “bracketing”. Sin embargo, debe estar disponible el\nconocimiento existente sobre el producto, incluido el contenido de la validación anterior. Se puede\nusar el enfoque de “bracketing”, si estuviera justificado, para las diferentes concentraciones,\ntamaños de lote, presentaciones y tipos de envases.",
         "5.14. En el caso de que se vayan a liberar al mercado los lotes de validación, esto debe estar\npreviamente definido. Las condiciones en las que estos lotes se hayan fabricado deberán cumplir\nplenamente los requisitos de las NCF, los criterios de aceptación de la validación, cualquier\ncriterio de la verificación del proceso continua (si se utiliza) y con la autorización de\ncomercialización o la autorización de ensayo clínico.",
         "5.22. Los protocolos de validación del proceso deben incluir, entre otros aspectos, los siguientes:\ni. Una breve descripción del proceso y una referencia al protocolo de producción de lotes\nmaestro respectivo;\nii. Las funciones y responsabilidades;\niii. Un resumen de los CQAs a investigar;\niv. Un resumen de los CPPs y sus límites asociados;\nv. Un resumen de otros atributos y parámetros (no críticos) que serán investigados o\nmonitorizados durante la actividad de validación y las razones de su inclusión;\nvi. La relación de los equipos/instalaciones que se van a utilizar (incluidos los equipos de\nmedición/monitorización/registro) junto con su estado de calibración;\nvii. La relación de los métodos analíticos y de la validación de los métodos, según\ncorresponda;\nviii. Los controles en proceso propuestos con los criterios de aceptación y la razón o razones\npor las cuales se selecciona cada control en proceso;\nix. Los ensayos adicionales a realizar con los criterios de aceptación;\nx. El plan de muestreo y el fundamento de éste;\nxi. Los métodos para registrar y evaluar los resultados;\nxii. Los procesos de liberación y certificación de lotes (si es aplicable).",
         "5.25. Los principios generales establecidos en las secciones de la 5.1 a la 5.14 siguen siendo\naplicables en este caso.",
         "6.1. Los productos terminados, los medicamentos en investigación, los productos a granel y las\nmuestras deben transportarse desde las plantas de producción de acuerdo con las condiciones\ndefinidas en la autorización de comercialización, el etiquetado aprobado, el expediente de\nespecificaciones del producto o de acuerdo con lo justificado por el fabricante.",
         "9. VALIDACIÓN DE MÉTODOS ANALÍTICOS",
         "10.6. Los límites para el arrastre de residuos del producto deben basarse en una evaluación\ntoxicológica1. La justificación de los límites seleccionados debe documentarse en una evaluación\nde riesgos que incluya todas las referencias de soporte. Deben establecerse límites para la\neliminación de los productos de limpieza utilizados. Los criterios de aceptación deben considerar\nel posible efecto acumulativo de los diferentes elementos de los equipos que intervienen en la\nlínea de proceso.",
         "10.13. Para demostrar que el método de limpieza está validado, el procedimiento debe efectuarse\nun número apropiado de veces basado en una evaluación de riesgos, y se deben cumplir los\ncriterios de aceptación.",
         "Agentes simulados\nUn material cuyas características físicas y, cuando corresponda, químicas (por ejemplo,\nviscosidad, tamaño de partículas, pH, etc.) son muy parecidas a las del producto en validación.",
         "Cualificación del Funcionamiento (OQ)",
         "Estado de control\nUna condición en la cual el conjunto de controles ofrece consistentemente garantías de la\nrealización del proceso de forma aceptable y de la calidad del producto.",
         "Validación concurrente\nValidación efectuada en circunstancias excepcionales, justificadas sobre la base de un beneficio\nsignificativo para el paciente, en la que el protocolo de validación se ejecuta simultáneamente con\nla comercialización de los lotes de validación."
        ],
        [
         "2",
         "Estado del documento: revisado.",
         "1. ORGANIZACIÓN Y PLANIFICACIÓN DE LA CUALIFICACIÓN Y DE LA VALIDACIÓN",
         "1.6. Cuando se trate de proyectos grandes y complejos, la planificación adquiere una\nimportancia añadida y la elaboración de planes de validación independientes puede mejorar la\nclaridad.",
         "2.4. Se deben elaborar protocolos de validación que definan los sistemas, los atributos y los\nparámetros críticos, y los criterios de aceptación asociados.",
         "Especificación de los requisitos de usuario (del inglés User Requirements Specification,\nURS)",
         "3.10 La OQ normalmente se realiza después de la ejecución de la IQ, pero dependiendo de la\ncomplejidad del equipo, puede llevarse a cabo como una cualificación de la instalación y del\nfuncionamiento (IOQ) conjunta.",
         "4.1. Se deben evaluar los equipos, las instalaciones, los servicios y los sistemas, con una\nfrecuencia apropiada, para confirmar que permanecen en un estado de control.",
         "5.6. Para la transferencia a otra planta de producción de productos legados, el proceso de\nproducción y los controles deben cumplir con la autorización de comercialización y cumplir con las\nnormas vigentes sobre la autorización de comercialización para dicho tipo de productos. Si fuera\nnecesario, se deben presentar las variaciones de la autorización de comercialización pertinentes.",
         "5.15. Para la validación del Proceso de Medicamentos en Investigación (IMP), véase el anexo\n13.",
         "Verificación continua del proceso\n5.23. En el caso de productos diseñados por un enfoque de calidad por diseño (del inglés Quality\nby Design, QbD), donde se ha demostrado científicamente durante la fase de desarrollo que la\nestrategia de control establecida proporciona un alto grado de garantía de que se obtiene un\nproducto de calidad, se puede, entonces, utilizar la verificación continua del proceso como una\nalternativa a la validación tradicional del proceso.",
         "Enfoque híbrido\n5.26. Puede aplicarse un enfoque híbrido entre el enfoque tradicional y el enfoque de la\nverificación continua del proceso, cuando haya una cantidad sustancial de conocimiento y de\nentendimiento del producto y del proceso procedente de la experiencia adquirida durante la\nproducción y de los datos históricos de lotes.",
         "6.2. Se reconoce que la verificación del transporte puede suponer un reto debido a los factores\nvariables implicados, sin embargo, las rutas de transporte deben estar claramente definidas.",
         "9.1. Todos los métodos de análisis usados en las actividades de cualificación, validación o\nlimpieza deben validarse con unos límites de detección y cuantificación adecuados, cuando sea\nnecesario, tal como define el capítulo 6, parte I, Volumen 4 del Eudralex.",
         "10.6.1. Es conocido que las macromoléculas terapéuticas y los péptidos se degradan y\ndesnaturalizan cuando se exponen a valores extremos de pH y/ o al calor, y que\npueden llegar a ser farmacológicamente inactivos. Por tanto, en estas circunstancias\npuede no ser aplicable una evaluación toxicológica.",
         "10.14. Si un proceso de limpieza no es efectivo o no es apropiado para algún equipo, se deben\nutilizar equipos dedicados o adoptar otras medidas adecuadas para cada producto tal como se\nindica en los capítulos 3 y 5, de la parte I del Volumen 4 del Eudralex.",
         "Atributo de Calidad Crítico (CQA)",
         "La verificación documentada de que las instalaciones, los sistemas y los equipos, tal y como se\nhan instalado o modificado, funcionan de la manera deseada en todos los rangos de\nfuncionamiento previstos.",
         "Estrategia de Control\nUn conjunto planificado de controles, derivados del producto y de la comprensión actual del\nproceso que garantiza la ejecución del proceso y la calidad del producto. Los controles pueden\nincluir parámetros y atributos relacionados con el principio activo, y con los materiales y con los\ncomponentes de los medicamentos, con las condiciones de funcionamiento de las instalaciones y\nde los equipos, con los controles durante el proceso, con las especificaciones del producto\nterminado y con los métodos asociados a las mismas y con la frecuencia de la monitorización y\ndel control. (ICH Q10)",
         "Verificación continua del proceso\nUn enfoque alternativo del proceso de validación en el que la ejecución del proceso de producción\nse monitoriza y evalúa de forma continua. (ICH Q8)"
        ],
        [
         "3",
         "Razones de los cambios: desde la publicación del anexo 15 en el año 2001, el entorno de\nproducción y el regulatorio han cambiado significativamente y por ello, se requiere una\nactualización del presente anexo, de manera que se refleje este cambio del entorno. Esta revisión\ndel anexo 15 tiene en cuenta los cambios en otras secciones de la parte I del Volumen 4 de\nEudraLex, la relación con la parte II, el anexo 11, las guías de la International Conference on\nHarmonisation of Technical Requirements for Registration of Pharmaceuticals for Human Use\n(ICH) Q8, Q9, Q10 y Q11, la guía del Quality Working Party (QWP) sobre la validación del\nproceso, y los cambios en la tecnología de producción.",
         "1.1. Todas las actividades de cualificación y de validación deben planificarse y debe tenerse en\ncuenta el ciclo de vida de las instalaciones, de los equipos, de los servicios, de los procesos y del\nproducto.",
         "1.7. Se debe utilizar un enfoque de gestión de riesgos para la calidad para las actividades de\ncualificación y de validación. Las evaluaciones de riesgos deben repetirse, si se requiere, a la luz\nde un mayor conocimiento y comprensión provenientes de cualquier cambio durante la fase de\nproyecto o durante la producción comercial. Debe estar claramente documentada la manera en\nque las evaluaciones de riesgos se usan para apoyar las actividades de cualificación y de\nvalidación.",
         "2.5. Los documentos de cualificación se pueden combinar, cuando sea apropiado, por ejemplo,\nla cualificación de la instalación (del inglés Installation Qualification, IQ) y la cualificación del\nfuncionamiento (del inglés Operational Qualification, OQ).",
         "3.2. La especificación de los equipos, las instalaciones, los servicios o los sistemas debe\ndefinirse en un URS y/ o en una especificación funcional. Los elementos esenciales de la calidad\ndeben ser elaborados en esta etapa y cualquier riesgo de las NCF debe minimizarse hasta un\nnivel aceptable. La URS debe ser un punto de referencia a lo largo de todo el ciclo de vida de la\nvalidación.",
         "3.11 La OQ debe incluir, entre otros aspectos, lo siguiente:\ni. Pruebas que se hayan desarrollado a partir del conocimiento sobre los procesos, los\nsistemas y los equipos, para asegurar que el sistema opera en concordancia con lo\ndiseñado;\nii. Pruebas para confirmar los límites de funcionamiento máximos y mínimos y/ o las\ncondiciones representativas del “peor caso”.",
         "4.2. Cuando se requiera una recualificación y ésta se deba ejecutar en un periodo de tiempo\nespecífico, dicho período debe estar justificado y los criterios de evaluación definidos. Además, se\ndebe evaluar la posibilidad de que se produzcan pequeños cambios conforme avance el tiempo.",
         "5.7. La validación del proceso debe establecer si todos los atributos de calidad y los parámetros\nde proceso, que se consideran importantes para garantizar el estado validado y una calidad del\nproducto aceptable, pueden alcanzarse de forma constante mediante el proceso. Se debe\ndocumentar claramente la base sobre la cual los parámetros de proceso y los atributos de calidad\nse identificaron como críticos o no críticos, teniendo en cuenta los resultados de cualquier\nactividad de evaluación de riesgos.",
         "Validación concurrente del proceso\n5.16. En circunstancias excepcionales, cuando exista una sólida relación beneficio-riesgo para el\npaciente, puede ser aceptable el no haber completado un programa de validación antes de dar\ncomienzo a la producción rutinaria y podría utilizarse la validación concurrente. Sin embargo, la\ndecisión de llevar a cabo una validación concurrente debe estar justificada, documentada en el\nPMV para su conocimiento y contará con la aprobación de personal autorizado.",
         "5.24. Debe definirse el método por el cual se verificará el proceso. Debe haber una estrategia de\ncontrol, basada en el conocimiento científico, para los atributos requeridos de los materiales\nentrantes, atributos de calidad críticos y parámetros de proceso críticos, que confirmen la\nMINISTERIO DE SANIDAD,\nSERVICIOS SOCIALES\nE IGUALDAD\nPágina 10 de 19\nAgencia Española de\nMedicamentos y\nProductos Sanitarios",
         "5.27. Este enfoque también puede usarse para cualquier actividad de validación a realizar como\nconsecuencia de cambios o durante la verificación continua del proceso, incluso aunque el\nproducto fuera inicialmente validado utilizando un enfoque tradicional.",
         "Durante la verificación del transporte deben considerarse también los cambios estacionales y\notras variaciones.",
         "9.2. Cuando se lleven a cabo análisis microbiológicos de un producto, el método debe validarse\npara confirmar que el producto no influye en la recuperación de microorganismos.",
         "10.6.2. Si no fuera posible realizar el ensayo para determinar los residuos de un producto\nespecífico, se pueden seleccionar otros parámetros representativos, como por ejemplo,\nCarbono Orgánico Total (TOC) y conductividad.",
         "10.15. Cuando se realice una limpieza manual del equipo, es especialmente importante que la\nefectividad del proceso manual de limpieza sea confirmada con una frecuencia justificada.",
         "Una propiedad o característica física, química, biológica o microbiológica que debe encontrarse\ndentro de un límite, rango o distribución aprobado para asegurar la calidad del producto deseada\n(ICH Q8).",
         "Cualificación de la ejecución del Proceso (PQ)",
         "Gestión del conocimiento\nUn enfoque sistemático para recopilar, analizar, almacenar y difundir información. (ICH Q10)",
         "Verificación en curso del proceso (también conocida como verificación continuada del\nproceso)"
        ],
        [
         "4",
         "Fecha de entrada en vigor: 1 de octubre de 2015.",
         "1.2. Las actividades de cualificación y de validación deben llevarse a cabo exclusivamente por\npersonal formado adecuadamente, que siga procedimientos aprobados.",
         "1.8. Deben incorporarse los controles adecuados al trabajo de cualificación y de validación para\nasegurar la integridad de todos los datos obtenidos.",
         "2.6. Cuando los protocolos de validación y demás documentación sean suministrados por un\ntercero que preste servicios de validación, el personal apropiado de la planta de producción debe\nconfirmar su idoneidad y el cumplimiento con los procedimientos internos, antes de su\naprobación. Los protocolos de dichos proveedores pueden ser complementados con\ndocumentación y/ o protocolos de prueba adicionales antes de su uso.",
         "Cualificación del diseño (del inglés Design Qualification, DQ)",
         "3.12 La conclusión de una OQ de forma satisfactoria debe permitir la finalización de los\nprocedimientos estándares de trabajo y de limpieza, la formación de los operarios y la definición\nde las exigencias sobre el mantenimiento preventivo.",
         "5. VALIDACIÓN DEL PROCESO",
         "5.8. Normalmente los lotes fabricados para la validación del proceso deben ser del mismo\ntamaño que los lotes a escala comercial previstos, y debe justificarse el uso de cualquier otro\ntamaño de lote o debe estar especificado en otras secciones del Volumen 4 de Eudralex.",
         "5.17. Cuando se haya adoptado un enfoque de validación concurrente, deben existir los\nsuficientes datos que avalen la conclusión de que dado un lote cualquiera de producto es\nuniforme y cumple con los criterios de aceptación definidos. Los resultados y la conclusión deben\nestar documentados formalmente y deben estar disponibles para la persona cualificada antes de\nla certificación del lote.",
         null,
         "Verificación en curso del proceso durante el ciclo de vida\n5.28. Las secciones de la 5.28 a la 5.32 son aplicables a los tres enfoques para el proceso de\nvalidación mencionados anteriormente, es decir, tradicional, verificación continua e híbrido.",
         "6.3. Debe realizarse una evaluación de riesgos para considerar el impacto que pueden tener en el\nproceso de transporte, otras condiciones variables, diferentes a aquellas que son continuamente\ncontroladas y monitorizadas, como por ejemplo, los retrasos durante el transporte, el fallo en los\nequipos de monitorización, el rellenado de nitrógeno líquido, la susceptibilidad del producto y\ncualquier otro factor pertinente.",
         "9.3. Cuando se lleven a cabo análisis microbiológicos de superficies en las salas limpias, el\nmétodo analítico debe validarse para confirmar que los agentes desinfectantes no influyen en la\nrecuperación de microorganismos.",
         "10.7. Durante el desarrollo de los protocolos de validación de limpieza, debe considerarse el\nriesgo que representan la contaminación microbiana y por endotoxinas.",
         "11. CONTROL DE CAMBIOS",
         "Calidad por diseño\nUn enfoque sistemático que comienza con unos objetivos previamente definidos y que enfatiza la\ncomprensión de los productos y de los procesos y el control del proceso, basándose en el rigor\ncientífico y en la gestión de riesgos para la calidad.",
         "La verificación documentada de que los sistemas y los equipos, pueden funcionar de forma\nefectiva y reproducible de acuerdo al método de proceso aprobado y a las especificaciones del\nproducto.",
         "Gestión de riesgos para la calidad\nUn proceso sistemático para la evaluación, el control, la comunicación y la revisión de los riesgos\npara la calidad durante todo el ciclo de vida. (ICH Q9)",
         "La evidencia documentada de que el proceso permanece en un estado de control durante la\nproducción comercial."
        ],
        [
         "5",
         "La guía de NCF se revisa de forma periódica. La Comisión Europea publica la información\nactualizada sobre las NCF y se puede consultar a través del siguiente enlace:\nhttp://ec.europa.eu/health/documents/eudralex/vol-4/index_en.htm\nFecha de publicación en la web Aemps: 28/09/2015\nCORREO ELECTRÓNICO C/ CAMPEZO, 1 – EDIFICIO 8\n28022 MADRID\nPágina 1 de 19\nsgicm@aemps.es TEL: 91 822 52 01 / 02\nFAX: 91 822 52 47",
         "1.3. El personal de cualificación y de validación debe reportar según lo que se haya definido en\nel sistema de calidad farmacéutico, aunque puede no ser necesario que sea un gerente de\ncalidad o un responsable de garantía de calidad. Sin embargo, debe haber una supervisión\napropiada de la unidad de calidad sobre la totalidad del ciclo de vida de la validación.\nMINISTERIO DE SANIDAD,\nSERVICIOS SOCIALES\nE IGUALDAD\nPágina 2 de 19\nAgencia Española de\nMedicamentos y\nProductos Sanitarios",
         "2. DOCUMENTACIÓN, INCLUIDO EL PMV",
         "2.7. Cualquier cambio importante del protocolo aprobado producido durante la ejecución del\nmismo, como por ejemplo, de los criterios de aceptación, parámetros de funcionamiento, etc.,\ndebe documentarse como una desviación y justificarse científicamente.",
         "3.3. El siguiente elemento en la validación de equipos, instalaciones, servicios o sistemas es la\nDQ, donde se debe demostrar y documentar que el diseño cumple con las NCF. Durante la fase\nde cualificación del diseño se deben verificar los requisitos de la especificación de requisitos de\nusuario.",
         "Cualificación de la ejecución del proceso (del inglés Performance Qualification, PQ)",
         "Generalidades\n5.1. Las exigencias y principios esbozados en esta sección son aplicables a la producción de\ntodas las formas farmacéuticas. Estos cubren la validación inicial de los procesos nuevos, la\nvalidación posterior de los procesos modificados, la transferencia de procesos entre plantas de\nproducción y la verificación de los procesos en curso. Está implícito en este anexo, que debe\nestar disponible un proceso de desarrollo del producto robusto, que posibilite efectuar una\nvalidación del proceso satisfactoria.",
         "5.9. Los equipos, las instalaciones, los servicios y los sistemas utilizados para la validación del\nproceso deben estar cualificados. Los métodos analíticos estarán validados para su uso previsto.",
         "Validación tradicional del proceso\n5.18. En el enfoque tradicional, se fabrica un número de lotes de producto terminado en\ncondiciones de rutina para confirmar su reproducibilidad.",
         null,
         "5.29. Los fabricantes deben monitorizar la calidad del producto para asegurar el mantenimiento\nde un estado de control durante todo el ciclo de vida del producto con una evaluación de las\ntendencias relevantes del proceso.",
         "6.4. Debido a las condiciones variables esperadas durante el transporte, debe realizarse una\nmonitorización continua y un registro de las condiciones ambientales críticas a las que el producto\npudiera estar sometido, a menos que se justifique lo contrario.",
         "10. VALIDACIÓN DE LA LIMPIEZA",
         "10.8. Debe tenerse en cuenta la influencia del tiempo transcurrido entre la producción y la\nlimpieza y el tiempo transcurrido entre la limpieza y el uso, para definir los tiempos de espera de\nlos equipos sucios y de los equipos limpios en el proceso de limpieza.",
         "11.1. El control de cambios es una parte importante dentro de la gestión del conocimiento y debe\ngestionarse dentro del sistema de calidad farmacéutico.",
         "Ciclo de vida\nTodas las fases de la vida de un producto, un equipo o una instalación desde el desarrollo inicial o\nuso hasta la discontinuación de su uso.",
         "Enfoque tradicional\nUn enfoque de desarrollo de productos en el que se definen los puntos de ajuste y los rangos de\nfuncionamiento de los parámetros del proceso para asegurar la reproducibilidad.",
         "Parámetros de Proceso Críticos (CPP)",
         "Validación del proceso\nLa verificación documentada de que el proceso realizado dentro de los parámetros establecidos,\npuede ejecutarse de forma efectiva y reproducible para dar lugar a un medicamento que cumpla\nsus especificaciones y sus atributos de calidad predeterminados."
        ],
        [
         "6",
         null,
         null,
         "2.1. Las buenas prácticas de documentación son importantes para apoyar la gestión del\nconocimiento a lo largo de todo el ciclo de vida del producto.\nMINISTERIO DE SANIDAD,\nSERVICIOS SOCIALES\nE IGUALDAD\nPágina 3 de 19\nAgencia Española de\nMedicamentos y\nProductos Sanitarios",
         "2.8. Los resultados que no cumplan los criterios de aceptación previamente definidos, deben\nregistrarse como una desviación, e investigarse completamente, de acuerdo con los\nprocedimientos locales. Se analizarán en el informe las posibles consecuencias para la\nvalidación.",
         "Pruebas de aceptación en fábrica (del inglés Factory Acceptance Testing, FAT) y Pruebas\nde aceptación en planta (del inglés Site Acceptance Testing, SAT)",
         "3.13 Normalmente la PQ debe efectuarse una vez concluidas satisfactoriamente la IQ y la OQ.",
         "5.2. La sección 5 debe usarse junto con la guía de la EMA sobre la validación del proceso\nvigente.",
         "5.10. Para todos los productos, independientemente del enfoque utilizado, el conocimiento sobre\nel proceso obtenido a partir de los estudios de desarrollo o de otras fuentes, debe estar accesible\npara la planta de producción, salvo que se justifique lo contrario, y constituir la base para las\nactividades de validación.",
         "5.19. El número de lotes fabricados y el número de muestras tomadas deben basarse en los\nprincipios de gestión de riesgos para la calidad, deben permitir establecer el rango normal de\nvariación y las tendencias, y deben proporcionar los datos suficientes para la evaluación. Cada\nfabricante debe determinar y justificar el número de lotes necesario para demostrar con un alto\nnivel de seguridad que el proceso es capaz de proporcionar de manera consistente un producto\nde calidad.",
         null,
         "5.30. La frecuencia y el alcance de la verificación en curso del proceso deben revisarse\nperiódicamente. En cualquier momento a lo largo de todo el ciclo de vida del producto, puede ser\nadecuado modificar los requisitos teniendo en cuenta el nivel de comprensión actual del proceso y\nde su comportamiento.",
         "7. VALIDACIÓN DEL ACONDICIONAMIENTO",
         "10.1. La validación de la limpieza debe realizarse con el fin de confirmar la efectividad de\ncualquier procedimiento de limpieza en todos los equipos que estén en contacto con el producto.",
         "10.9. En el caso de que se realice una producción por campañas, debe considerarse el impacto\nsobre la facilidad de la limpieza al final de la campaña, y la duración máxima de la campaña (en\ntiempo y/ o en número de lotes) debe ser la base para los trabajos de validación de la limpieza.",
         "11.2. Deben existir procedimientos escritos que describan las acciones a realizar si se propone\nun cambio planificado en un material de partida, en un componente de un producto, en un\nproceso, en un equipo, en las instalaciones, en la gama de productos, en el método de\nproducción o de ensayo, en el tamaño de lote, en el espacio de diseño o cualquier otro cambio\ndurante el ciclo de vida del producto que pueda afectar a la calidad del producto o a la\nreproducibilidad.",
         "Consecución del producto\nLa obtención de un producto con los atributos de calidad que cumple con las necesidades de los\npacientes, de los profesionales de la salud y de las autoridades reguladoras y con los requisitos\ninternos de los clientes. (ICH Q10)",
         "Enfoque por “Bracketing” o enfoque por modelo de análisis de extremos\nEs un enfoque de validación basado en el riesgo y en el conocimiento científico, de manera que\nsolamente los lotes en los extremos de ciertos factores de diseño predeterminados y justificados,\ncomo por ejemplo, la concentración, el tamaño del lote, y/ o la presentación, son analizados\ndurante la validación del proceso. El diseño asume que la validación de cualquier nivel intermedio\nestá representada por la validación de los extremos. Cuando se va a validar un rango de\nconcentración, el “bracketing” puede aplicarse si las dosis tienen una composición idéntica o muy\nparecida, como por ejemplo, para una gama de comprimidos elaborados con diferentes pesos de\ncompresión y obtenidos a partir de una granulación básica similar, o para una gama de cápsulas\nelaboradas mediante el llenado con diferentes pesos de llenado de la misma composición básica,\nen cápsulas de diferentes tamaños. El “bracketing” puede aplicarse a diferentes tamaños de\nenvases o a diferentes llenados en un mismo sistema de envase-cierre.",
         "Un parámetro de proceso cuya variabilidad tiene un impacto en un atributo de calidad crítico y\nque, por tanto, debe ser monitorizado o controlado para asegurar que el proceso produce la\ncalidad deseada. (ICH Q8)",
         "Validación prospectiva\nLa validación llevada a cabo antes de la producción rutinaria de los productos destinados a la\nventa.\nMINISTERIO DE SANIDAD,\nSERVICIOS SOCIALES\nE IGUALDAD\nPágina 19 de 19\nAgencia Española de\nMedicamentos y\nProductos Sanitarios"
        ],
        [
         "7",
         null,
         null,
         null,
         "2.9. Se deben incluir en el informe la revisión y las conclusiones de la validación, y los\nresultados obtenidos se deben resumir contrastándolos con los criterios de aceptación. Cualquier\ncambio posterior de los criterios de aceptación debe justificarse científicamente y se debe realizar\nuna recomendación final como resultado de la validación.",
         "3.4. El equipo, especialmente si incorpora una tecnología novedosa o compleja, se puede\nevaluar, si procede, antes de la entrega, en la instalación del proveedor.",
         "Sin embargo, en ciertos casos puede ser apropiado realizarla junto con la OQ o la validación del\nproceso.",
         "5.2.1. La guía sobre la validación del proceso está destinada únicamente a proporcionar una\norientación sobre la información y los datos a facilitar en la solicitud de registro. No\nobstante, los requisitos de las NCF para la validación del proceso continúan siendo\nvigentes a lo largo de todo el ciclo de vida del proceso.",
         "5.11. En la fabricación de los lotes de validación del proceso, debe estar involucrado el personal\nde producción, de desarrollo o de transferencia procedente de otras plantas de producción. Los\nlotes deben ser fabricados solamente por personal cualificado de conformidad con las NCF,\nutilizando documentación aprobada. Para facilitar la comprensión del producto, se espera que el\npersonal de producción esté involucrado en la fabricación de los lotes de validación.",
         "5.20. Sin perjuicio de lo establecido en la sección 5.19, en general, se considera aceptable que\nla validación del proceso pueda estar constituida por un mínimo de tres lotes consecutivos,\nproducidos en las condiciones de rutina. Puede estar justificado un número alternativo de lotes,\nteniendo en cuenta si se usan métodos estándar de fabricación y si ya se utilizan productos o\nprocesos similares en la planta de producción. Puede ser necesario complementar el ejercicio de\nvalidación inicial de tres lotes con datos adicionales obtenidos de lotes posteriores, como parte de\nun ejercicio de verificación en curso del proceso.\nMINISTERIO DE SANIDAD,\nSERVICIOS SOCIALES\nE IGUALDAD\nPágina 9 de 19\nAgencia Española de\nMedicamentos y\nProductos Sanitarios",
         null,
         "5.31. La verificación en curso del proceso debe llevarse a cabo en virtud de un protocolo\naprobado o documentos equivalentes y su correspondiente informe debe prepararse para\ndocumentar los resultados obtenidos. Deben utilizarse herramientas estadísticas, cuando\ncorresponda, para apoyar cualquier conclusión con respecto a la variabilidad y capacidad de un\ndeterminado proceso y para garantizar un estado de control.",
         "7.1. Cualquier variación en los parámetros de procesamiento del equipo, especialmente durante\nel acondicionamiento primario, puede tener un impacto significativo en la integridad y en el\ncorrecto funcionamiento del envase, como por ejemplo, blisters, sobres y componentes estériles\ny, por tanto, se deben cualificar los equipos de acondicionamiento primario y secundario de\nproductos terminados y de productos a granel.",
         "Se pueden usar agentes simulados con una justificación científica apropiada. Cuando se agrupen\ntipos similares de equipos, se requiere una justificación de la elección del equipo específico\nseleccionado para la validación de la limpieza.",
         "10.10. Cuando se utilice el enfoque de peor caso de producto como un modelo de validación de la\nlimpieza, debe proporcionarse una justificación científica para la selección del peor caso de\nproducto y debe evaluarse el impacto que puede tener la introducción de productos nuevos en la\nplanta de producción. Los criterios para la determinación del peor caso pueden incluir solubilidad,\nfacilidad de limpieza, toxicidad y potencia.",
         "11.3. Cuando se utilice el espacio de diseño, se debe considerar el impacto de los cambios\nsobre el espacio de diseño registrado dentro de la autorización de comercialización y evaluar la\nnecesidad de cualquier acción regulatoria.",
         "Control de cambios\nUn sistema formal por el cual representantes cualificados de las disciplinas apropiadas evalúan\nlos cambios propuestos o realizados que pudieran afectar el estado validado de las instalaciones,\nlos sistemas, los equipos o los procesos. Su objetivo es determinar las acciones necesarias para\ngarantizar y documentar que el sistema se mantiene en estado validado.",
         "Espacio de diseño\nLa combinación e interacción multidimensional de las variables entrantes (por ejemplo, los\natributos de los materiales) y de los parámetros de proceso, que han demostrado que\nproporcionan una garantía de calidad. Trabajar dentro del espacio de diseño no se considera un\ncambio. Se considera un cambio un desplazamiento fuera del espacio de diseño y, normalmente,\nesto conllevaría el inicio de un proceso de cambio regulatorio con posterioridad a la obtención de\nla autorización de comercialización. El espacio de diseño es propuesto por el solicitante y está\nsujeto a la evaluación y aprobación regulatoria (ICH Q8).\nMINISTERIO DE SANIDAD,\nSERVICIOS SOCIALES\nE IGUALDAD\nPágina 17 de 19\nAgencia Española de\nMedicamentos y\nProductos Sanitarios",
         "Peor caso\nUna condición o un conjunto de condiciones que abarcan los límites máximos y mínimos del\nproceso, así como las circunstancias, dentro de los procedimientos normalizados de trabajo, con\nmayor riesgo de fallos en el producto o en el proceso en comparación con las condiciones\nideales. Tales condiciones no provocan necesariamente fallos en el producto o en el proceso.",
         null
        ],
        [
         "8",
         null,
         null,
         null,
         "2.10. Se debe autorizar la liberación de manera formal para la realización de la siguiente etapa\ndel proceso de cualificación y de validación por el personal responsable pertinente, o bien como\nparte de la aprobación del informe de validación o bien como un documento resumen\nindependiente. La aprobación condicional para proceder a la realización de la siguiente etapa de\ncualificación puede emitirse cuando ciertos criterios de aceptación o ciertas desviaciones no se\nhayan abordado plenamente, y exista una evaluación documentada, en la que se concluya que no\nhay un impacto significativo sobre la siguiente actividad.\nMINISTERIO DE SANIDAD,\nSERVICIOS SOCIALES\nE IGUALDAD\nPágina 4 de 19\nAgencia Española de\nMedicamentos y\nProductos Sanitarios",
         "3.5. Antes de su instalación, se debe confirmar, en la instalación del proveedor, que el equipo\ncumple con la URS y/ o la especificación funcional, si procede.",
         "3.14 La PQ debe incluir, entre otros aspectos, lo siguiente:\ni. Pruebas, empleando materiales de producción, sucedáneos cualificados o producto\nsimulado, que hayan demostrado tener un comportamiento equivalente en condiciones\nnormales de funcionamiento, al de los tamaños de lote considerados como “peor caso”. Se\ndebe justificar la frecuencia del muestreo utilizada para confirmar que el proceso está\ncontrolado;\nMINISTERIO DE SANIDAD,\nSERVICIOS SOCIALES\nE IGUALDAD\nPágina 6 de 19\nAgencia Española de\nMedicamentos y\nProductos Sanitarios",
         "5.2.2. Este enfoque debe aplicarse para vincular el desarrollo del producto y del proceso. Esto\nasegurará la validación del proceso de producción comercial y el mantenimiento del\nproceso en un estado de control durante la producción comercial rutinaria.",
         "5.12. Los proveedores de materias primas y de materiales de acondicionamiento críticos deben\nestar cualificados antes de la fabricación de los lotes de validación. De lo contrario, se debe\ndocumentar una justificación, basada en la aplicación de los principios de gestión de riesgos para\nla calidad.\nMINISTERIO DE SANIDAD,\nSERVICIOS SOCIALES\nE IGUALDAD\nPágina 8 de 19\nAgencia Española de\nMedicamentos y\nProductos Sanitarios",
         null,
         null,
         "5.32. La verificación en curso del proceso debe aplicarse durante todo el ciclo de vida del\nproducto para apoyar el estado validado del producto como se documenta en la revisión de la\ncalidad del producto. Deben también tenerse en cuenta los cambios progresivos a lo largo del\ntiempo y debe evaluarse la necesidad de cualquier medida adicional (por ejemplo, muestreo\nmejorado).\nMINISTERIO DE SANIDAD,\nSERVICIOS SOCIALES\nE IGUALDAD\nPágina 11 de 19\nAgencia Española de\nMedicamentos y\nProductos Sanitarios",
         "7.2. La cualificación de los equipos utilizados para el acondicionamiento primario debe llevarse a\ncabo en los rangos de trabajo máximos y mínimos definidos para los parámetros de proceso\ncríticos, tales como, temperatura, velocidad del equipo y presión de sellado o cualquier otro factor.",
         "10.2. La comprobación visual de la limpieza es un punto importante de los criterios de aceptación\npara la validación de limpieza. Generalmente no es aceptable utilizar únicamente este criterio.",
         "10.11. En los protocolos de validación de la limpieza se deben especificar o se debe hacer\nreferencia a los lugares objeto de muestreo, a la justificación de la selección de estos lugares y se\ndeben definir los criterios de aceptación.",
         "11.4. La gestión de riesgos para la calidad debe utilizarse para evaluar los cambios planificados,\npara determinar el impacto potencial sobre la calidad del producto, los sistemas de calidad\nfarmacéuticos, la documentación, la validación, el estado regulatorio, la calibración y el\nmantenimiento y sobre cualquier otro sistema, para evitar consecuencias no deseadas y para\nplanificar cualquier validación, verificación o recualificación del proceso que sea necesaria.",
         "Cualificación del Diseño (DQ)",
         null,
         "Validación de la limpieza\nLa validación de la limpieza es la evidencia documentada de que un procedimiento de limpieza\naprobado eliminará de forma reproducible el producto anterior o los agentes de limpieza utilizados\nen los equipos, por debajo del límite máximo de arrastre permitido establecido científicamente.\nMINISTERIO DE SANIDAD,\nSERVICIOS SOCIALES\nE IGUALDAD\nPágina 18 de 19\nAgencia Española de\nMedicamentos y\nProductos Sanitarios",
         null
        ],
        [
         "9",
         null,
         null,
         null,
         null,
         "3.6. Cuando sea apropiado y esté justificado, la revisión de la documentación y algunas de las\npruebas pueden realizarse durante la etapa FAT u otras etapas, sin la necesidad de repetirlas\ndurante la ejecución de la IQ/ OQ en la propia planta de producción, siempre que se pueda\ndemostrar que la funcionalidad no se ve afectada por el transporte y la instalación del equipo.",
         null,
         "5.3. Los procesos de producción pueden desarrollarse utilizando un enfoque tradicional o un\nenfoque de verificación continua. Sin embargo, independientemente del enfoque utilizado, debe\ndemostrarse que los procesos son robustos y se debe garantizar una calidad constante del\nproducto, antes de que cualquier producto sea liberado al mercado. Los procesos de producción\nen los que se utiliza el enfoque tradicional deben someterse a un programa de validación\nprospectiva, siempre que sea posible, antes de la certificación del producto. La validación\nretrospectiva ya no se considera un enfoque aceptable.\nMINISTERIO DE SANIDAD,\nSERVICIOS SOCIALES\nE IGUALDAD\nPágina 7 de 19\nAgencia Española de\nMedicamentos y\nProductos Sanitarios",
         null,
         null,
         null,
         null,
         "8. CUALIFICACIÓN DE SERVICIOS",
         "Tampoco se considera un enfoque aceptable la repetición de la limpieza y el reanálisis hasta\nobtener resultados aceptables de residuos.",
         "10.12. El muestreo debe llevarse a cabo mediante torundas y/ o aclarado o por otros medios en\nfunción de los equipos de producción. Ni los materiales de muestreo ni el método deben influir en\n1\nVer la guía de la EMA: “Guideline on setting health based exposure limits for use in risk identification in the manufacture of\ndifferent medicinal products in shared facilities”.\nMINISTERIO DE SANIDAD,\nSERVICIOS SOCIALES\nE IGUALDAD\nPágina 14 de 19\nAgencia Española de\nMedicamentos y\nProductos Sanitarios",
         "11.5. Cualquier cambio debe ser autorizado y aprobado por las personas responsables o por el\npersonal funcionalmente pertinente, de acuerdo al sistema de calidad farmacéutico.",
         "La verificación documentada de que el diseño propuesto para las instalaciones, los sistemas y los\nequipos es adecuado para la finalidad prevista.",
         null,
         null,
         null
        ],
        [
         "10",
         null,
         null,
         null,
         null,
         "3.7. Las pruebas FAT pueden complementarse con la ejecución de las pruebas SAT tras la\nrecepción del equipo en la planta de producción.",
         null,
         null,
         null,
         null,
         null,
         null,
         "8.1. La calidad del vapor, agua, aire, otros gases, etc. debe confirmarse después de la instalación\nsiguiendo las etapas de cualificación descritas anteriormente en la sección 3.",
         "10.3. Se reconoce que puede transcurrir algún tiempo hasta que el programa de validación de la\nlimpieza se haya completado y que puede requerirse una validación con una verificación tras\ncada lote, en el caso de algunos productos, como por ejemplo, los medicamentos en\ninvestigación. Los datos procedentes de la verificación deben ser suficientes para apoyar una\nconclusión de que el equipo está limpio y disponible para su uso posterior.",
         null,
         "11.6. La documentación de soporte, como por ejemplo, las copias de los documentos, deben\nrevisarse para confirmar que el impacto del cambio se ha demostrado antes de la aprobación\nfinal.",
         "Cualificación de la Instalación (IQ)\nMINISTERIO DE SANIDAD,\nSERVICIOS SOCIALES\nE IGUALDAD\nPágina 16 de 19\nAgencia Española de\nMedicamentos y\nProductos Sanitarios",
         null,
         null,
         null
        ],
        [
         "11",
         null,
         null,
         null,
         null,
         "Cualificación de la instalación (del inglés Installation Qualification, IQ)",
         null,
         null,
         null,
         null,
         null,
         null,
         "8.2. El periodo y el alcance de la cualificación del servicio debe reflejar cualquier cambio\nestacional, si es aplicable, y el uso previsto del servicio.\nMINISTERIO DE SANIDAD,\nSERVICIOS SOCIALES\nE IGUALDAD\nPágina 12 de 19\nAgencia Española de\nMedicamentos y\nProductos Sanitarios",
         "10.4. La validación debe considerar el nivel de automatización del proceso de limpieza. Cuando\nse use un proceso automático, debe validarse el rango normal de funcionamiento especificado de\nlos servicios y los equipos.",
         null,
         "11.7. Después de la implementación, y cuando se apropiado, debe llevarse a cabo una\nevaluación de la efectividad del cambio para confirmar que dicho cambio ha sido exitoso.\nMINISTERIO DE SANIDAD,\nSERVICIOS SOCIALES\nE IGUALDAD\nPágina 15 de 19\nAgencia Española de\nMedicamentos y\nProductos Sanitarios",
         null,
         null,
         null,
         null
        ],
        [
         "12",
         null,
         null,
         null,
         null,
         "3.8. La IQ se debe realizar en el caso de equipos, instalaciones, servicios o sistemas.\nMINISTERIO DE SANIDAD,\nSERVICIOS SOCIALES\nE IGUALDAD\nPágina 5 de 19\nAgencia Española de\nMedicamentos y\nProductos Sanitarios",
         null,
         null,
         null,
         null,
         null,
         null,
         null,
         "10.5 Se debe realizar para todos los procesos de limpieza una evaluación para determinar los\nfactores variables que influyen en la efectividad y en el resultado de la limpieza, como por\nMINISTERIO DE SANIDAD,\nSERVICIOS SOCIALES\nE IGUALDAD\nPágina 13 de 19\nAgencia Española de\nMedicamentos y\nProductos Sanitarios",
         null,
         null,
         null,
         null,
         null,
         null
        ]
       ],
       "shape": {
        "columns": 19,
        "rows": 13
       }
      },
      "text/html": [
       "<div>\n",
       "<style scoped>\n",
       "    .dataframe tbody tr th:only-of-type {\n",
       "        vertical-align: middle;\n",
       "    }\n",
       "\n",
       "    .dataframe tbody tr th {\n",
       "        vertical-align: top;\n",
       "    }\n",
       "\n",
       "    .dataframe thead th {\n",
       "        text-align: right;\n",
       "    }\n",
       "</style>\n",
       "<table border=\"1\" class=\"dataframe\">\n",
       "  <thead>\n",
       "    <tr style=\"text-align: right;\">\n",
       "      <th></th>\n",
       "      <th>0</th>\n",
       "      <th>1</th>\n",
       "      <th>2</th>\n",
       "      <th>3</th>\n",
       "      <th>4</th>\n",
       "      <th>5</th>\n",
       "      <th>6</th>\n",
       "      <th>7</th>\n",
       "      <th>8</th>\n",
       "      <th>9</th>\n",
       "      <th>10</th>\n",
       "      <th>11</th>\n",
       "      <th>12</th>\n",
       "      <th>13</th>\n",
       "      <th>14</th>\n",
       "      <th>15</th>\n",
       "      <th>16</th>\n",
       "      <th>17</th>\n",
       "      <th>18</th>\n",
       "    </tr>\n",
       "  </thead>\n",
       "  <tbody>\n",
       "    <tr>\n",
       "      <th>0</th>\n",
       "      <td>DEPARTAMENTO DE\\nINSPECCIÓN Y CONTROL DE\\nMEDI...</td>\n",
       "      <td>Principio\\nEste anexo describe los principios ...</td>\n",
       "      <td>1.4. Los elementos clave del programa de cuali...</td>\n",
       "      <td>2.2. Todos los documentos generados durante la...</td>\n",
       "      <td>3. ETAPAS DE CUALIFICACIÓN DE EQUIPOS, INSTALA...</td>\n",
       "      <td>3.9. La IQ debe incluir, entre otros aspectos,...</td>\n",
       "      <td>ii. Las pruebas deben cubrir el rango de funci...</td>\n",
       "      <td>5.4. La validación del proceso de nuevos produ...</td>\n",
       "      <td>5.13. Es especialmente importante que, con el ...</td>\n",
       "      <td>5.21. Debe prepararse un protocolo de validaci...</td>\n",
       "      <td>consecución del producto. Esto también debe in...</td>\n",
       "      <td>6. VERIFICACIÓN DEL TRANSPORTE</td>\n",
       "      <td>8.3. Para mitigar cualquier riesgo de fallo, d...</td>\n",
       "      <td>ejemplo, los operarios, el nivel de detalle en...</td>\n",
       "      <td>el resultado. Debe demostrarse que es posible ...</td>\n",
       "      <td>12. GLOSARIO\\nA continuación se dan las defini...</td>\n",
       "      <td>La verificación documentada de que las instala...</td>\n",
       "      <td>Especificación de requisitos de usuario\\nEl co...</td>\n",
       "      <td>Verificación de la limpieza\\nLa obtención de e...</td>\n",
       "    </tr>\n",
       "    <tr>\n",
       "      <th>1</th>\n",
       "      <td>Guía de Normas de Correcta Fabricación de\\nMed...</td>\n",
       "      <td>General\\nDebe emplearse un enfoque de la gesti...</td>\n",
       "      <td>1.5. El PMV o documento equivalente debe defin...</td>\n",
       "      <td>2.3. En los proyectos de validación complejos,...</td>\n",
       "      <td>3.1. En las actividades de cualificación deben...</td>\n",
       "      <td>Cualificación del funcionamiento (del inglés O...</td>\n",
       "      <td>4. RECUALIFICACIÓN</td>\n",
       "      <td>5.5. En la validación del proceso de productos...</td>\n",
       "      <td>5.14. En el caso de que se vayan a liberar al ...</td>\n",
       "      <td>5.22. Los protocolos de validación del proceso...</td>\n",
       "      <td>5.25. Los principios generales establecidos en...</td>\n",
       "      <td>6.1. Los productos terminados, los medicamento...</td>\n",
       "      <td>9. VALIDACIÓN DE MÉTODOS ANALÍTICOS</td>\n",
       "      <td>10.6. Los límites para el arrastre de residuos...</td>\n",
       "      <td>10.13. Para demostrar que el método de limpiez...</td>\n",
       "      <td>Agentes simulados\\nUn material cuyas caracterí...</td>\n",
       "      <td>Cualificación del Funcionamiento (OQ)</td>\n",
       "      <td>Estado de control\\nUna condición en la cual el...</td>\n",
       "      <td>Validación concurrente\\nValidación efectuada e...</td>\n",
       "    </tr>\n",
       "    <tr>\n",
       "      <th>2</th>\n",
       "      <td>Estado del documento: revisado.</td>\n",
       "      <td>1. ORGANIZACIÓN Y PLANIFICACIÓN DE LA CUALIFIC...</td>\n",
       "      <td>1.6. Cuando se trate de proyectos grandes y co...</td>\n",
       "      <td>2.4. Se deben elaborar protocolos de validació...</td>\n",
       "      <td>Especificación de los requisitos de usuario (d...</td>\n",
       "      <td>3.10 La OQ normalmente se realiza después de l...</td>\n",
       "      <td>4.1. Se deben evaluar los equipos, las instala...</td>\n",
       "      <td>5.6. Para la transferencia a otra planta de pr...</td>\n",
       "      <td>5.15. Para la validación del Proceso de Medica...</td>\n",
       "      <td>Verificación continua del proceso\\n5.23. En el...</td>\n",
       "      <td>Enfoque híbrido\\n5.26. Puede aplicarse un enfo...</td>\n",
       "      <td>6.2. Se reconoce que la verificación del trans...</td>\n",
       "      <td>9.1. Todos los métodos de análisis usados en l...</td>\n",
       "      <td>10.6.1. Es conocido que las macromoléculas ter...</td>\n",
       "      <td>10.14. Si un proceso de limpieza no es efectiv...</td>\n",
       "      <td>Atributo de Calidad Crítico (CQA)</td>\n",
       "      <td>La verificación documentada de que las instala...</td>\n",
       "      <td>Estrategia de Control\\nUn conjunto planificado...</td>\n",
       "      <td>Verificación continua del proceso\\nUn enfoque ...</td>\n",
       "    </tr>\n",
       "    <tr>\n",
       "      <th>3</th>\n",
       "      <td>Razones de los cambios: desde la publicación d...</td>\n",
       "      <td>1.1. Todas las actividades de cualificación y ...</td>\n",
       "      <td>1.7. Se debe utilizar un enfoque de gestión de...</td>\n",
       "      <td>2.5. Los documentos de cualificación se pueden...</td>\n",
       "      <td>3.2. La especificación de los equipos, las ins...</td>\n",
       "      <td>3.11 La OQ debe incluir, entre otros aspectos,...</td>\n",
       "      <td>4.2. Cuando se requiera una recualificación y ...</td>\n",
       "      <td>5.7. La validación del proceso debe establecer...</td>\n",
       "      <td>Validación concurrente del proceso\\n5.16. En c...</td>\n",
       "      <td>5.24. Debe definirse el método por el cual se ...</td>\n",
       "      <td>5.27. Este enfoque también puede usarse para c...</td>\n",
       "      <td>Durante la verificación del transporte deben c...</td>\n",
       "      <td>9.2. Cuando se lleven a cabo análisis microbio...</td>\n",
       "      <td>10.6.2. Si no fuera posible realizar el ensayo...</td>\n",
       "      <td>10.15. Cuando se realice una limpieza manual d...</td>\n",
       "      <td>Una propiedad o característica física, química...</td>\n",
       "      <td>Cualificación de la ejecución del Proceso (PQ)</td>\n",
       "      <td>Gestión del conocimiento\\nUn enfoque sistemáti...</td>\n",
       "      <td>Verificación en curso del proceso (también con...</td>\n",
       "    </tr>\n",
       "    <tr>\n",
       "      <th>4</th>\n",
       "      <td>Fecha de entrada en vigor: 1 de octubre de 2015.</td>\n",
       "      <td>1.2. Las actividades de cualificación y de val...</td>\n",
       "      <td>1.8. Deben incorporarse los controles adecuado...</td>\n",
       "      <td>2.6. Cuando los protocolos de validación y dem...</td>\n",
       "      <td>Cualificación del diseño (del inglés Design Qu...</td>\n",
       "      <td>3.12 La conclusión de una OQ de forma satisfac...</td>\n",
       "      <td>5. VALIDACIÓN DEL PROCESO</td>\n",
       "      <td>5.8. Normalmente los lotes fabricados para la ...</td>\n",
       "      <td>5.17. Cuando se haya adoptado un enfoque de va...</td>\n",
       "      <td>None</td>\n",
       "      <td>Verificación en curso del proceso durante el c...</td>\n",
       "      <td>6.3. Debe realizarse una evaluación de riesgos...</td>\n",
       "      <td>9.3. Cuando se lleven a cabo análisis microbio...</td>\n",
       "      <td>10.7. Durante el desarrollo de los protocolos ...</td>\n",
       "      <td>11. CONTROL DE CAMBIOS</td>\n",
       "      <td>Calidad por diseño\\nUn enfoque sistemático que...</td>\n",
       "      <td>La verificación documentada de que los sistema...</td>\n",
       "      <td>Gestión de riesgos para la calidad\\nUn proceso...</td>\n",
       "      <td>La evidencia documentada de que el proceso per...</td>\n",
       "    </tr>\n",
       "    <tr>\n",
       "      <th>5</th>\n",
       "      <td>La guía de NCF se revisa de forma periódica. L...</td>\n",
       "      <td>1.3. El personal de cualificación y de validac...</td>\n",
       "      <td>2. DOCUMENTACIÓN, INCLUIDO EL PMV</td>\n",
       "      <td>2.7. Cualquier cambio importante del protocolo...</td>\n",
       "      <td>3.3. El siguiente elemento en la validación de...</td>\n",
       "      <td>Cualificación de la ejecución del proceso (del...</td>\n",
       "      <td>Generalidades\\n5.1. Las exigencias y principio...</td>\n",
       "      <td>5.9. Los equipos, las instalaciones, los servi...</td>\n",
       "      <td>Validación tradicional del proceso\\n5.18. En e...</td>\n",
       "      <td>None</td>\n",
       "      <td>5.29. Los fabricantes deben monitorizar la cal...</td>\n",
       "      <td>6.4. Debido a las condiciones variables espera...</td>\n",
       "      <td>10. VALIDACIÓN DE LA LIMPIEZA</td>\n",
       "      <td>10.8. Debe tenerse en cuenta la influencia del...</td>\n",
       "      <td>11.1. El control de cambios es una parte impor...</td>\n",
       "      <td>Ciclo de vida\\nTodas las fases de la vida de u...</td>\n",
       "      <td>Enfoque tradicional\\nUn enfoque de desarrollo ...</td>\n",
       "      <td>Parámetros de Proceso Críticos (CPP)</td>\n",
       "      <td>Validación del proceso\\nLa verificación docume...</td>\n",
       "    </tr>\n",
       "    <tr>\n",
       "      <th>6</th>\n",
       "      <td>None</td>\n",
       "      <td>None</td>\n",
       "      <td>2.1. Las buenas prácticas de documentación son...</td>\n",
       "      <td>2.8. Los resultados que no cumplan los criteri...</td>\n",
       "      <td>Pruebas de aceptación en fábrica (del inglés F...</td>\n",
       "      <td>3.13 Normalmente la PQ debe efectuarse una vez...</td>\n",
       "      <td>5.2. La sección 5 debe usarse junto con la guí...</td>\n",
       "      <td>5.10. Para todos los productos, independientem...</td>\n",
       "      <td>5.19. El número de lotes fabricados y el númer...</td>\n",
       "      <td>None</td>\n",
       "      <td>5.30. La frecuencia y el alcance de la verific...</td>\n",
       "      <td>7. VALIDACIÓN DEL ACONDICIONAMIENTO</td>\n",
       "      <td>10.1. La validación de la limpieza debe realiz...</td>\n",
       "      <td>10.9. En el caso de que se realice una producc...</td>\n",
       "      <td>11.2. Deben existir procedimientos escritos qu...</td>\n",
       "      <td>Consecución del producto\\nLa obtención de un p...</td>\n",
       "      <td>Enfoque por “Bracketing” o enfoque por modelo ...</td>\n",
       "      <td>Un parámetro de proceso cuya variabilidad tien...</td>\n",
       "      <td>Validación prospectiva\\nLa validación llevada ...</td>\n",
       "    </tr>\n",
       "    <tr>\n",
       "      <th>7</th>\n",
       "      <td>None</td>\n",
       "      <td>None</td>\n",
       "      <td>None</td>\n",
       "      <td>2.9. Se deben incluir en el informe la revisió...</td>\n",
       "      <td>3.4. El equipo, especialmente si incorpora una...</td>\n",
       "      <td>Sin embargo, en ciertos casos puede ser apropi...</td>\n",
       "      <td>5.2.1. La guía sobre la validación del proceso...</td>\n",
       "      <td>5.11. En la fabricación de los lotes de valida...</td>\n",
       "      <td>5.20. Sin perjuicio de lo establecido en la se...</td>\n",
       "      <td>None</td>\n",
       "      <td>5.31. La verificación en curso del proceso deb...</td>\n",
       "      <td>7.1. Cualquier variación en los parámetros de ...</td>\n",
       "      <td>Se pueden usar agentes simulados con una justi...</td>\n",
       "      <td>10.10. Cuando se utilice el enfoque de peor ca...</td>\n",
       "      <td>11.3. Cuando se utilice el espacio de diseño, ...</td>\n",
       "      <td>Control de cambios\\nUn sistema formal por el c...</td>\n",
       "      <td>Espacio de diseño\\nLa combinación e interacció...</td>\n",
       "      <td>Peor caso\\nUna condición o un conjunto de cond...</td>\n",
       "      <td>None</td>\n",
       "    </tr>\n",
       "    <tr>\n",
       "      <th>8</th>\n",
       "      <td>None</td>\n",
       "      <td>None</td>\n",
       "      <td>None</td>\n",
       "      <td>2.10. Se debe autorizar la liberación de maner...</td>\n",
       "      <td>3.5. Antes de su instalación, se debe confirma...</td>\n",
       "      <td>3.14 La PQ debe incluir, entre otros aspectos,...</td>\n",
       "      <td>5.2.2. Este enfoque debe aplicarse para vincul...</td>\n",
       "      <td>5.12. Los proveedores de materias primas y de ...</td>\n",
       "      <td>None</td>\n",
       "      <td>None</td>\n",
       "      <td>5.32. La verificación en curso del proceso deb...</td>\n",
       "      <td>7.2. La cualificación de los equipos utilizado...</td>\n",
       "      <td>10.2. La comprobación visual de la limpieza es...</td>\n",
       "      <td>10.11. En los protocolos de validación de la l...</td>\n",
       "      <td>11.4. La gestión de riesgos para la calidad de...</td>\n",
       "      <td>Cualificación del Diseño (DQ)</td>\n",
       "      <td>None</td>\n",
       "      <td>Validación de la limpieza\\nLa validación de la...</td>\n",
       "      <td>None</td>\n",
       "    </tr>\n",
       "    <tr>\n",
       "      <th>9</th>\n",
       "      <td>None</td>\n",
       "      <td>None</td>\n",
       "      <td>None</td>\n",
       "      <td>None</td>\n",
       "      <td>3.6. Cuando sea apropiado y esté justificado, ...</td>\n",
       "      <td>None</td>\n",
       "      <td>5.3. Los procesos de producción pueden desarro...</td>\n",
       "      <td>None</td>\n",
       "      <td>None</td>\n",
       "      <td>None</td>\n",
       "      <td>None</td>\n",
       "      <td>8. CUALIFICACIÓN DE SERVICIOS</td>\n",
       "      <td>Tampoco se considera un enfoque aceptable la r...</td>\n",
       "      <td>10.12. El muestreo debe llevarse a cabo median...</td>\n",
       "      <td>11.5. Cualquier cambio debe ser autorizado y a...</td>\n",
       "      <td>La verificación documentada de que el diseño p...</td>\n",
       "      <td>None</td>\n",
       "      <td>None</td>\n",
       "      <td>None</td>\n",
       "    </tr>\n",
       "    <tr>\n",
       "      <th>10</th>\n",
       "      <td>None</td>\n",
       "      <td>None</td>\n",
       "      <td>None</td>\n",
       "      <td>None</td>\n",
       "      <td>3.7. Las pruebas FAT pueden complementarse con...</td>\n",
       "      <td>None</td>\n",
       "      <td>None</td>\n",
       "      <td>None</td>\n",
       "      <td>None</td>\n",
       "      <td>None</td>\n",
       "      <td>None</td>\n",
       "      <td>8.1. La calidad del vapor, agua, aire, otros g...</td>\n",
       "      <td>10.3. Se reconoce que puede transcurrir algún ...</td>\n",
       "      <td>None</td>\n",
       "      <td>11.6. La documentación de soporte, como por ej...</td>\n",
       "      <td>Cualificación de la Instalación (IQ)\\nMINISTER...</td>\n",
       "      <td>None</td>\n",
       "      <td>None</td>\n",
       "      <td>None</td>\n",
       "    </tr>\n",
       "    <tr>\n",
       "      <th>11</th>\n",
       "      <td>None</td>\n",
       "      <td>None</td>\n",
       "      <td>None</td>\n",
       "      <td>None</td>\n",
       "      <td>Cualificación de la instalación (del inglés In...</td>\n",
       "      <td>None</td>\n",
       "      <td>None</td>\n",
       "      <td>None</td>\n",
       "      <td>None</td>\n",
       "      <td>None</td>\n",
       "      <td>None</td>\n",
       "      <td>8.2. El periodo y el alcance de la cualificaci...</td>\n",
       "      <td>10.4. La validación debe considerar el nivel d...</td>\n",
       "      <td>None</td>\n",
       "      <td>11.7. Después de la implementación, y cuando s...</td>\n",
       "      <td>None</td>\n",
       "      <td>None</td>\n",
       "      <td>None</td>\n",
       "      <td>None</td>\n",
       "    </tr>\n",
       "    <tr>\n",
       "      <th>12</th>\n",
       "      <td>None</td>\n",
       "      <td>None</td>\n",
       "      <td>None</td>\n",
       "      <td>None</td>\n",
       "      <td>3.8. La IQ se debe realizar en el caso de equi...</td>\n",
       "      <td>None</td>\n",
       "      <td>None</td>\n",
       "      <td>None</td>\n",
       "      <td>None</td>\n",
       "      <td>None</td>\n",
       "      <td>None</td>\n",
       "      <td>None</td>\n",
       "      <td>10.5 Se debe realizar para todos los procesos ...</td>\n",
       "      <td>None</td>\n",
       "      <td>None</td>\n",
       "      <td>None</td>\n",
       "      <td>None</td>\n",
       "      <td>None</td>\n",
       "      <td>None</td>\n",
       "    </tr>\n",
       "  </tbody>\n",
       "</table>\n",
       "</div>"
      ],
      "text/plain": [
       "                                                   0   \\\n",
       "0   DEPARTAMENTO DE\\nINSPECCIÓN Y CONTROL DE\\nMEDI...   \n",
       "1   Guía de Normas de Correcta Fabricación de\\nMed...   \n",
       "2                     Estado del documento: revisado.   \n",
       "3   Razones de los cambios: desde la publicación d...   \n",
       "4    Fecha de entrada en vigor: 1 de octubre de 2015.   \n",
       "5   La guía de NCF se revisa de forma periódica. L...   \n",
       "6                                                None   \n",
       "7                                                None   \n",
       "8                                                None   \n",
       "9                                                None   \n",
       "10                                               None   \n",
       "11                                               None   \n",
       "12                                               None   \n",
       "\n",
       "                                                   1   \\\n",
       "0   Principio\\nEste anexo describe los principios ...   \n",
       "1   General\\nDebe emplearse un enfoque de la gesti...   \n",
       "2   1. ORGANIZACIÓN Y PLANIFICACIÓN DE LA CUALIFIC...   \n",
       "3   1.1. Todas las actividades de cualificación y ...   \n",
       "4   1.2. Las actividades de cualificación y de val...   \n",
       "5   1.3. El personal de cualificación y de validac...   \n",
       "6                                                None   \n",
       "7                                                None   \n",
       "8                                                None   \n",
       "9                                                None   \n",
       "10                                               None   \n",
       "11                                               None   \n",
       "12                                               None   \n",
       "\n",
       "                                                   2   \\\n",
       "0   1.4. Los elementos clave del programa de cuali...   \n",
       "1   1.5. El PMV o documento equivalente debe defin...   \n",
       "2   1.6. Cuando se trate de proyectos grandes y co...   \n",
       "3   1.7. Se debe utilizar un enfoque de gestión de...   \n",
       "4   1.8. Deben incorporarse los controles adecuado...   \n",
       "5                   2. DOCUMENTACIÓN, INCLUIDO EL PMV   \n",
       "6   2.1. Las buenas prácticas de documentación son...   \n",
       "7                                                None   \n",
       "8                                                None   \n",
       "9                                                None   \n",
       "10                                               None   \n",
       "11                                               None   \n",
       "12                                               None   \n",
       "\n",
       "                                                   3   \\\n",
       "0   2.2. Todos los documentos generados durante la...   \n",
       "1   2.3. En los proyectos de validación complejos,...   \n",
       "2   2.4. Se deben elaborar protocolos de validació...   \n",
       "3   2.5. Los documentos de cualificación se pueden...   \n",
       "4   2.6. Cuando los protocolos de validación y dem...   \n",
       "5   2.7. Cualquier cambio importante del protocolo...   \n",
       "6   2.8. Los resultados que no cumplan los criteri...   \n",
       "7   2.9. Se deben incluir en el informe la revisió...   \n",
       "8   2.10. Se debe autorizar la liberación de maner...   \n",
       "9                                                None   \n",
       "10                                               None   \n",
       "11                                               None   \n",
       "12                                               None   \n",
       "\n",
       "                                                   4   \\\n",
       "0   3. ETAPAS DE CUALIFICACIÓN DE EQUIPOS, INSTALA...   \n",
       "1   3.1. En las actividades de cualificación deben...   \n",
       "2   Especificación de los requisitos de usuario (d...   \n",
       "3   3.2. La especificación de los equipos, las ins...   \n",
       "4   Cualificación del diseño (del inglés Design Qu...   \n",
       "5   3.3. El siguiente elemento en la validación de...   \n",
       "6   Pruebas de aceptación en fábrica (del inglés F...   \n",
       "7   3.4. El equipo, especialmente si incorpora una...   \n",
       "8   3.5. Antes de su instalación, se debe confirma...   \n",
       "9   3.6. Cuando sea apropiado y esté justificado, ...   \n",
       "10  3.7. Las pruebas FAT pueden complementarse con...   \n",
       "11  Cualificación de la instalación (del inglés In...   \n",
       "12  3.8. La IQ se debe realizar en el caso de equi...   \n",
       "\n",
       "                                                   5   \\\n",
       "0   3.9. La IQ debe incluir, entre otros aspectos,...   \n",
       "1   Cualificación del funcionamiento (del inglés O...   \n",
       "2   3.10 La OQ normalmente se realiza después de l...   \n",
       "3   3.11 La OQ debe incluir, entre otros aspectos,...   \n",
       "4   3.12 La conclusión de una OQ de forma satisfac...   \n",
       "5   Cualificación de la ejecución del proceso (del...   \n",
       "6   3.13 Normalmente la PQ debe efectuarse una vez...   \n",
       "7   Sin embargo, en ciertos casos puede ser apropi...   \n",
       "8   3.14 La PQ debe incluir, entre otros aspectos,...   \n",
       "9                                                None   \n",
       "10                                               None   \n",
       "11                                               None   \n",
       "12                                               None   \n",
       "\n",
       "                                                   6   \\\n",
       "0   ii. Las pruebas deben cubrir el rango de funci...   \n",
       "1                                  4. RECUALIFICACIÓN   \n",
       "2   4.1. Se deben evaluar los equipos, las instala...   \n",
       "3   4.2. Cuando se requiera una recualificación y ...   \n",
       "4                           5. VALIDACIÓN DEL PROCESO   \n",
       "5   Generalidades\\n5.1. Las exigencias y principio...   \n",
       "6   5.2. La sección 5 debe usarse junto con la guí...   \n",
       "7   5.2.1. La guía sobre la validación del proceso...   \n",
       "8   5.2.2. Este enfoque debe aplicarse para vincul...   \n",
       "9   5.3. Los procesos de producción pueden desarro...   \n",
       "10                                               None   \n",
       "11                                               None   \n",
       "12                                               None   \n",
       "\n",
       "                                                   7   \\\n",
       "0   5.4. La validación del proceso de nuevos produ...   \n",
       "1   5.5. En la validación del proceso de productos...   \n",
       "2   5.6. Para la transferencia a otra planta de pr...   \n",
       "3   5.7. La validación del proceso debe establecer...   \n",
       "4   5.8. Normalmente los lotes fabricados para la ...   \n",
       "5   5.9. Los equipos, las instalaciones, los servi...   \n",
       "6   5.10. Para todos los productos, independientem...   \n",
       "7   5.11. En la fabricación de los lotes de valida...   \n",
       "8   5.12. Los proveedores de materias primas y de ...   \n",
       "9                                                None   \n",
       "10                                               None   \n",
       "11                                               None   \n",
       "12                                               None   \n",
       "\n",
       "                                                   8   \\\n",
       "0   5.13. Es especialmente importante que, con el ...   \n",
       "1   5.14. En el caso de que se vayan a liberar al ...   \n",
       "2   5.15. Para la validación del Proceso de Medica...   \n",
       "3   Validación concurrente del proceso\\n5.16. En c...   \n",
       "4   5.17. Cuando se haya adoptado un enfoque de va...   \n",
       "5   Validación tradicional del proceso\\n5.18. En e...   \n",
       "6   5.19. El número de lotes fabricados y el númer...   \n",
       "7   5.20. Sin perjuicio de lo establecido en la se...   \n",
       "8                                                None   \n",
       "9                                                None   \n",
       "10                                               None   \n",
       "11                                               None   \n",
       "12                                               None   \n",
       "\n",
       "                                                   9   \\\n",
       "0   5.21. Debe prepararse un protocolo de validaci...   \n",
       "1   5.22. Los protocolos de validación del proceso...   \n",
       "2   Verificación continua del proceso\\n5.23. En el...   \n",
       "3   5.24. Debe definirse el método por el cual se ...   \n",
       "4                                                None   \n",
       "5                                                None   \n",
       "6                                                None   \n",
       "7                                                None   \n",
       "8                                                None   \n",
       "9                                                None   \n",
       "10                                               None   \n",
       "11                                               None   \n",
       "12                                               None   \n",
       "\n",
       "                                                   10  \\\n",
       "0   consecución del producto. Esto también debe in...   \n",
       "1   5.25. Los principios generales establecidos en...   \n",
       "2   Enfoque híbrido\\n5.26. Puede aplicarse un enfo...   \n",
       "3   5.27. Este enfoque también puede usarse para c...   \n",
       "4   Verificación en curso del proceso durante el c...   \n",
       "5   5.29. Los fabricantes deben monitorizar la cal...   \n",
       "6   5.30. La frecuencia y el alcance de la verific...   \n",
       "7   5.31. La verificación en curso del proceso deb...   \n",
       "8   5.32. La verificación en curso del proceso deb...   \n",
       "9                                                None   \n",
       "10                                               None   \n",
       "11                                               None   \n",
       "12                                               None   \n",
       "\n",
       "                                                   11  \\\n",
       "0                      6. VERIFICACIÓN DEL TRANSPORTE   \n",
       "1   6.1. Los productos terminados, los medicamento...   \n",
       "2   6.2. Se reconoce que la verificación del trans...   \n",
       "3   Durante la verificación del transporte deben c...   \n",
       "4   6.3. Debe realizarse una evaluación de riesgos...   \n",
       "5   6.4. Debido a las condiciones variables espera...   \n",
       "6                 7. VALIDACIÓN DEL ACONDICIONAMIENTO   \n",
       "7   7.1. Cualquier variación en los parámetros de ...   \n",
       "8   7.2. La cualificación de los equipos utilizado...   \n",
       "9                       8. CUALIFICACIÓN DE SERVICIOS   \n",
       "10  8.1. La calidad del vapor, agua, aire, otros g...   \n",
       "11  8.2. El periodo y el alcance de la cualificaci...   \n",
       "12                                               None   \n",
       "\n",
       "                                                   12  \\\n",
       "0   8.3. Para mitigar cualquier riesgo de fallo, d...   \n",
       "1                 9. VALIDACIÓN DE MÉTODOS ANALÍTICOS   \n",
       "2   9.1. Todos los métodos de análisis usados en l...   \n",
       "3   9.2. Cuando se lleven a cabo análisis microbio...   \n",
       "4   9.3. Cuando se lleven a cabo análisis microbio...   \n",
       "5                       10. VALIDACIÓN DE LA LIMPIEZA   \n",
       "6   10.1. La validación de la limpieza debe realiz...   \n",
       "7   Se pueden usar agentes simulados con una justi...   \n",
       "8   10.2. La comprobación visual de la limpieza es...   \n",
       "9   Tampoco se considera un enfoque aceptable la r...   \n",
       "10  10.3. Se reconoce que puede transcurrir algún ...   \n",
       "11  10.4. La validación debe considerar el nivel d...   \n",
       "12  10.5 Se debe realizar para todos los procesos ...   \n",
       "\n",
       "                                                   13  \\\n",
       "0   ejemplo, los operarios, el nivel de detalle en...   \n",
       "1   10.6. Los límites para el arrastre de residuos...   \n",
       "2   10.6.1. Es conocido que las macromoléculas ter...   \n",
       "3   10.6.2. Si no fuera posible realizar el ensayo...   \n",
       "4   10.7. Durante el desarrollo de los protocolos ...   \n",
       "5   10.8. Debe tenerse en cuenta la influencia del...   \n",
       "6   10.9. En el caso de que se realice una producc...   \n",
       "7   10.10. Cuando se utilice el enfoque de peor ca...   \n",
       "8   10.11. En los protocolos de validación de la l...   \n",
       "9   10.12. El muestreo debe llevarse a cabo median...   \n",
       "10                                               None   \n",
       "11                                               None   \n",
       "12                                               None   \n",
       "\n",
       "                                                   14  \\\n",
       "0   el resultado. Debe demostrarse que es posible ...   \n",
       "1   10.13. Para demostrar que el método de limpiez...   \n",
       "2   10.14. Si un proceso de limpieza no es efectiv...   \n",
       "3   10.15. Cuando se realice una limpieza manual d...   \n",
       "4                              11. CONTROL DE CAMBIOS   \n",
       "5   11.1. El control de cambios es una parte impor...   \n",
       "6   11.2. Deben existir procedimientos escritos qu...   \n",
       "7   11.3. Cuando se utilice el espacio de diseño, ...   \n",
       "8   11.4. La gestión de riesgos para la calidad de...   \n",
       "9   11.5. Cualquier cambio debe ser autorizado y a...   \n",
       "10  11.6. La documentación de soporte, como por ej...   \n",
       "11  11.7. Después de la implementación, y cuando s...   \n",
       "12                                               None   \n",
       "\n",
       "                                                   15  \\\n",
       "0   12. GLOSARIO\\nA continuación se dan las defini...   \n",
       "1   Agentes simulados\\nUn material cuyas caracterí...   \n",
       "2                   Atributo de Calidad Crítico (CQA)   \n",
       "3   Una propiedad o característica física, química...   \n",
       "4   Calidad por diseño\\nUn enfoque sistemático que...   \n",
       "5   Ciclo de vida\\nTodas las fases de la vida de u...   \n",
       "6   Consecución del producto\\nLa obtención de un p...   \n",
       "7   Control de cambios\\nUn sistema formal por el c...   \n",
       "8                       Cualificación del Diseño (DQ)   \n",
       "9   La verificación documentada de que el diseño p...   \n",
       "10  Cualificación de la Instalación (IQ)\\nMINISTER...   \n",
       "11                                               None   \n",
       "12                                               None   \n",
       "\n",
       "                                                   16  \\\n",
       "0   La verificación documentada de que las instala...   \n",
       "1               Cualificación del Funcionamiento (OQ)   \n",
       "2   La verificación documentada de que las instala...   \n",
       "3      Cualificación de la ejecución del Proceso (PQ)   \n",
       "4   La verificación documentada de que los sistema...   \n",
       "5   Enfoque tradicional\\nUn enfoque de desarrollo ...   \n",
       "6   Enfoque por “Bracketing” o enfoque por modelo ...   \n",
       "7   Espacio de diseño\\nLa combinación e interacció...   \n",
       "8                                                None   \n",
       "9                                                None   \n",
       "10                                               None   \n",
       "11                                               None   \n",
       "12                                               None   \n",
       "\n",
       "                                                   17  \\\n",
       "0   Especificación de requisitos de usuario\\nEl co...   \n",
       "1   Estado de control\\nUna condición en la cual el...   \n",
       "2   Estrategia de Control\\nUn conjunto planificado...   \n",
       "3   Gestión del conocimiento\\nUn enfoque sistemáti...   \n",
       "4   Gestión de riesgos para la calidad\\nUn proceso...   \n",
       "5                Parámetros de Proceso Críticos (CPP)   \n",
       "6   Un parámetro de proceso cuya variabilidad tien...   \n",
       "7   Peor caso\\nUna condición o un conjunto de cond...   \n",
       "8   Validación de la limpieza\\nLa validación de la...   \n",
       "9                                                None   \n",
       "10                                               None   \n",
       "11                                               None   \n",
       "12                                               None   \n",
       "\n",
       "                                                   18  \n",
       "0   Verificación de la limpieza\\nLa obtención de e...  \n",
       "1   Validación concurrente\\nValidación efectuada e...  \n",
       "2   Verificación continua del proceso\\nUn enfoque ...  \n",
       "3   Verificación en curso del proceso (también con...  \n",
       "4   La evidencia documentada de que el proceso per...  \n",
       "5   Validación del proceso\\nLa verificación docume...  \n",
       "6   Validación prospectiva\\nLa validación llevada ...  \n",
       "7                                                None  \n",
       "8                                                None  \n",
       "9                                                None  \n",
       "10                                               None  \n",
       "11                                               None  \n",
       "12                                               None  "
      ]
     },
     "execution_count": 13,
     "metadata": {},
     "output_type": "execute_result"
    }
   ],
   "source": [
    "# PDF por páginas\n",
    "#Abrimos el pdf y extraemos el texto de cada página añadiéndolo a una lista que transformamos en df:\n",
    "paginas = []\n",
    "with pdfplumber.open(\"anexo-15.pdf\") as pdf: \n",
    "    for p in pdf.pages:\n",
    "        pagina= p.extract_text() \n",
    "        paginas.append(pagina)\n",
    "\n",
    "# PDF por epígrafes\n",
    "#Dividimos cada página de la lista en sublistas de epígrafes usando expresiones regulares y creando una nueva lista que pasamos a df:\n",
    "import re\n",
    "epigrafes_por_pagina = []\n",
    "\n",
    "for p in paginas:\n",
    "    epigrafes = re.split(r\"(?<=\\.|:|[A-Z]|\\))\\n(?=[A-Z][a-z]|\\d+)\", p)\n",
    "    epigrafes_por_pagina.append(epigrafes)\n",
    "df_epigrafes = pd.DataFrame(epigrafes_por_pagina).T\n",
    "df_epigrafes"
   ]
  },
  {
   "cell_type": "markdown",
   "id": "d1c90b0e",
   "metadata": {},
   "source": [
    "#### NER (Named Entity Recognition): reconocimiento de entidades con nombre"
   ]
  },
  {
   "cell_type": "markdown",
   "id": "c99c4037",
   "metadata": {},
   "source": [
    "- El reconocimiento de entidades con nombre en el Anexo 15 ha sido limitado, probablemente porque el modelo está pensado para lenguaje general y no específicamente para textos técnicos.\n",
    "- Valoro la posibilidad de encontrar un modelo en Hugging Face que se adapte mejor a este tipo de documentos. \n",
    "- El modelo parece más afinado cuando se aplica sobre el texto completo que sobre fragmentos como los epígrafes."
   ]
  },
  {
   "cell_type": "code",
   "execution_count": 14,
   "id": "60890714",
   "metadata": {},
   "outputs": [
    {
     "data": {
      "application/vnd.microsoft.datawrangler.viewer.v0+json": {
       "columns": [
        {
         "name": "index",
         "rawType": "int64",
         "type": "integer"
        },
        {
         "name": "index",
         "rawType": "int64",
         "type": "integer"
        },
        {
         "name": "Entidad",
         "rawType": "object",
         "type": "string"
        },
        {
         "name": "Etiqueta",
         "rawType": "object",
         "type": "string"
        }
       ],
       "ref": "e58429d1-96f7-450c-a2d7-46ec7efc38be",
       "rows": [
        [
         "0",
         "0",
         "DEPARTAMENTO DE\nINSPECCIÓN Y CONTROL DE",
         "ORG"
        ],
        [
         "1",
         "1",
         "MEDICAMENTOS\nGuía de Normas de Correcta Fabricación de\nMedicamentos de Uso Humano",
         "MISC"
        ],
        [
         "2",
         "2",
         "Veterinario\nAnexo 15: Cualificación",
         "LOC"
        ],
        [
         "3",
         "3",
         "Directiva",
         "ORG"
        ],
        [
         "4",
         "4",
         "CE",
         "ORG"
        ],
        [
         "5",
         "5",
         "Directiva",
         "ORG"
        ],
        [
         "6",
         "6",
         "CE",
         "ORG"
        ],
        [
         "7",
         "7",
         "Este documento",
         "MISC"
        ],
        [
         "8",
         "8",
         "Normas de Correcta Fabricación",
         "MISC"
        ],
        [
         "9",
         "9",
         "Directiva",
         "ORG"
        ],
        [
         "10",
         "10",
         "Directiva",
         "ORG"
        ],
        [
         "11",
         "11",
         "CEE",
         "ORG"
        ],
        [
         "12",
         "12",
         "Razones",
         "ORG"
        ],
        [
         "13",
         "13",
         "I",
         "MISC"
        ],
        [
         "14",
         "14",
         "Volumen 4 de\nEudraLex",
         "MISC"
        ],
        [
         "15",
         "15",
         "International Conference on\nHarmonisation of Technical Requirements for Registration of Pharmaceuticals for Human Use",
         "ORG"
        ],
        [
         "16",
         "16",
         "Q9",
         "ORG"
        ],
        [
         "17",
         "17",
         "Q10",
         "ORG"
        ],
        [
         "18",
         "18",
         "Q11",
         "MISC"
        ],
        [
         "19",
         "19",
         "Quality Working Party",
         "MISC"
        ],
        [
         "20",
         "20",
         "La Comisión Europea",
         "ORG"
        ],
        [
         "21",
         "21",
         "Aemps",
         "PER"
        ],
        [
         "22",
         "22",
         "Principio\nEste anexo",
         "MISC"
        ],
        [
         "23",
         "23",
         "Volumen 4\nde EudraLex",
         "MISC"
        ],
        [
         "24",
         "24",
         "Los sistemas informatizados",
         "MISC"
        ],
        [
         "25",
         "25",
         "ICH Q8",
         "LOC"
        ],
        [
         "26",
         "26",
         "Q9",
         "ORG"
        ],
        [
         "27",
         "27",
         "Q10",
         "ORG"
        ],
        [
         "28",
         "28",
         "Q11",
         "MISC"
        ],
        [
         "29",
         "29",
         "General",
         "LOC"
        ],
        [
         "30",
         "30",
         "La validación retrospectiva",
         "MISC"
        ],
        [
         "31",
         "31",
         "Los\ndatos",
         "MISC"
        ],
        [
         "32",
         "32",
         "ORGANIZACIÓN",
         "MISC"
        ],
        [
         "33",
         "33",
         "Todas las actividades de cualificación",
         "MISC"
        ],
        [
         "34",
         "34",
         "Las actividades de cualificación",
         "MISC"
        ],
        [
         "35",
         "35",
         "El personal de cualificación",
         "MISC"
        ],
        [
         "36",
         "36",
         "Sin embargo,",
         "MISC"
        ],
        [
         "37",
         "37",
         "Los elementos",
         "MISC"
        ],
        [
         "38",
         "38",
         "Plan Maestro de Validación",
         "MISC"
        ],
        [
         "39",
         "39",
         "El PMV",
         "MISC"
        ],
        [
         "40",
         "40",
         "Estructura",
         "MISC"
        ],
        [
         "41",
         "41",
         "Resumen de las instalaciones",
         "MISC"
        ],
        [
         "42",
         "42",
         "Gestión de los controles de cambios",
         "MISC"
        ],
        [
         "43",
         "43",
         "Referencias",
         "MISC"
        ],
        [
         "44",
         "44",
         "La estrategia de cualificación",
         "MISC"
        ],
        [
         "45",
         "45",
         "Las evaluaciones de riesgos",
         "MISC"
        ],
        [
         "46",
         "46",
         "DOCUMENTACIÓN",
         "MISC"
        ],
        [
         "47",
         "47",
         "INCLUIDO EL PMV",
         "LOC"
        ],
        [
         "48",
         "48",
         "Las buenas prácticas de documentación",
         "MISC"
        ],
        [
         "49",
         "49",
         "Todos los documentos",
         "MISC"
        ]
       ],
       "shape": {
        "columns": 3,
        "rows": 236
       }
      },
      "text/html": [
       "<div>\n",
       "<style scoped>\n",
       "    .dataframe tbody tr th:only-of-type {\n",
       "        vertical-align: middle;\n",
       "    }\n",
       "\n",
       "    .dataframe tbody tr th {\n",
       "        vertical-align: top;\n",
       "    }\n",
       "\n",
       "    .dataframe thead th {\n",
       "        text-align: right;\n",
       "    }\n",
       "</style>\n",
       "<table border=\"1\" class=\"dataframe\">\n",
       "  <thead>\n",
       "    <tr style=\"text-align: right;\">\n",
       "      <th></th>\n",
       "      <th>index</th>\n",
       "      <th>Entidad</th>\n",
       "      <th>Etiqueta</th>\n",
       "    </tr>\n",
       "  </thead>\n",
       "  <tbody>\n",
       "    <tr>\n",
       "      <th>0</th>\n",
       "      <td>0</td>\n",
       "      <td>DEPARTAMENTO DE\\nINSPECCIÓN Y CONTROL DE</td>\n",
       "      <td>ORG</td>\n",
       "    </tr>\n",
       "    <tr>\n",
       "      <th>1</th>\n",
       "      <td>1</td>\n",
       "      <td>MEDICAMENTOS\\nGuía de Normas de Correcta Fabri...</td>\n",
       "      <td>MISC</td>\n",
       "    </tr>\n",
       "    <tr>\n",
       "      <th>2</th>\n",
       "      <td>2</td>\n",
       "      <td>Veterinario\\nAnexo 15: Cualificación</td>\n",
       "      <td>LOC</td>\n",
       "    </tr>\n",
       "    <tr>\n",
       "      <th>3</th>\n",
       "      <td>3</td>\n",
       "      <td>Directiva</td>\n",
       "      <td>ORG</td>\n",
       "    </tr>\n",
       "    <tr>\n",
       "      <th>4</th>\n",
       "      <td>4</td>\n",
       "      <td>CE</td>\n",
       "      <td>ORG</td>\n",
       "    </tr>\n",
       "    <tr>\n",
       "      <th>...</th>\n",
       "      <td>...</td>\n",
       "      <td>...</td>\n",
       "      <td>...</td>\n",
       "    </tr>\n",
       "    <tr>\n",
       "      <th>231</th>\n",
       "      <td>231</td>\n",
       "      <td>Validación de la limpieza\\nLa validación de la...</td>\n",
       "      <td>MISC</td>\n",
       "    </tr>\n",
       "    <tr>\n",
       "      <th>232</th>\n",
       "      <td>232</td>\n",
       "      <td>Validación</td>\n",
       "      <td>MISC</td>\n",
       "    </tr>\n",
       "    <tr>\n",
       "      <th>233</th>\n",
       "      <td>233</td>\n",
       "      <td>Validación</td>\n",
       "      <td>MISC</td>\n",
       "    </tr>\n",
       "    <tr>\n",
       "      <th>234</th>\n",
       "      <td>234</td>\n",
       "      <td>Validación</td>\n",
       "      <td>MISC</td>\n",
       "    </tr>\n",
       "    <tr>\n",
       "      <th>235</th>\n",
       "      <td>235</td>\n",
       "      <td>Validación prospectiva</td>\n",
       "      <td>MISC</td>\n",
       "    </tr>\n",
       "  </tbody>\n",
       "</table>\n",
       "<p>236 rows × 3 columns</p>\n",
       "</div>"
      ],
      "text/plain": [
       "     index                                            Entidad Etiqueta\n",
       "0        0           DEPARTAMENTO DE\\nINSPECCIÓN Y CONTROL DE      ORG\n",
       "1        1  MEDICAMENTOS\\nGuía de Normas de Correcta Fabri...     MISC\n",
       "2        2               Veterinario\\nAnexo 15: Cualificación      LOC\n",
       "3        3                                          Directiva      ORG\n",
       "4        4                                                 CE      ORG\n",
       "..     ...                                                ...      ...\n",
       "231    231  Validación de la limpieza\\nLa validación de la...     MISC\n",
       "232    232                                         Validación     MISC\n",
       "233    233                                         Validación     MISC\n",
       "234    234                                         Validación     MISC\n",
       "235    235                             Validación prospectiva     MISC\n",
       "\n",
       "[236 rows x 3 columns]"
      ]
     },
     "execution_count": 14,
     "metadata": {},
     "output_type": "execute_result"
    }
   ],
   "source": [
    "# Sobre texto completo: \n",
    "entidades = []\n",
    "doc = nlp(texto)\n",
    "for ent in doc.ents:\n",
    "    entidades.append({\n",
    "        \"Entidad\": ent.text,\n",
    "        \"Etiqueta\": ent.label_\n",
    "    })\n",
    "df_entidades = pd.DataFrame(entidades).reset_index()\n",
    "df_entidades "
   ]
  },
  {
   "cell_type": "code",
   "execution_count": 15,
   "id": "99597779",
   "metadata": {},
   "outputs": [
    {
     "data": {
      "application/vnd.microsoft.datawrangler.viewer.v0+json": {
       "columns": [
        {
         "name": "index",
         "rawType": "int64",
         "type": "integer"
        },
        {
         "name": "index",
         "rawType": "int64",
         "type": "integer"
        },
        {
         "name": "Texto",
         "rawType": "object",
         "type": "string"
        },
        {
         "name": "Entidad",
         "rawType": "object",
         "type": "string"
        }
       ],
       "ref": "2a31c45f-e960-4f7e-b106-594e09d09db7",
       "rows": [
        [
         "0",
         "0",
         "DEPARTAMENTO DE\nINSPECCIÓN Y CONTROL DE",
         "ORG"
        ],
        [
         "1",
         "1",
         "MEDICAMENTOS",
         "ORG"
        ],
        [
         "2",
         "2",
         "Medicamentos de Uso Humano",
         "MISC"
        ],
        [
         "3",
         "3",
         "Veterinario\nAnexo 15: Cualificación",
         "LOC"
        ],
        [
         "4",
         "4",
         "Directiva",
         "ORG"
        ],
        [
         "5",
         "5",
         "CE",
         "ORG"
        ],
        [
         "6",
         "6",
         "Directiva",
         "ORG"
        ],
        [
         "7",
         "7",
         "CE",
         "ORG"
        ],
        [
         "8",
         "8",
         "Este documento",
         "MISC"
        ],
        [
         "9",
         "9",
         "Normas de Correcta Fabricación",
         "MISC"
        ],
        [
         "10",
         "10",
         "Directiva",
         "ORG"
        ],
        [
         "11",
         "11",
         "Directiva",
         "ORG"
        ],
        [
         "12",
         "12",
         "CEE",
         "ORG"
        ],
        [
         "13",
         "13",
         "I",
         "MISC"
        ],
        [
         "14",
         "14",
         "Volumen 4 de\nEudraLex",
         "MISC"
        ],
        [
         "15",
         "15",
         "International Conference on\nHarmonisation of Technical Requirements for Registration of Pharmaceuticals for Human Use",
         "ORG"
        ],
        [
         "16",
         "16",
         "Q9",
         "ORG"
        ],
        [
         "17",
         "17",
         "Q10",
         "ORG"
        ],
        [
         "18",
         "18",
         "Q11",
         "MISC"
        ],
        [
         "19",
         "19",
         "Quality Working Party",
         "MISC"
        ],
        [
         "20",
         "20",
         "La Comisión Europea",
         "ORG"
        ],
        [
         "21",
         "21",
         "Aemps",
         "PER"
        ],
        [
         "22",
         "22",
         "CAMPEZO",
         "MISC"
        ],
        [
         "23",
         "23",
         "Página 1",
         "MISC"
        ],
        [
         "24",
         "24",
         "TEL: 91 822 52 01 / 02\nFAX: 91 822 52 47",
         "MISC"
        ],
        [
         "25",
         "25",
         "Volumen 4\nde EudraLex",
         "MISC"
        ],
        [
         "26",
         "26",
         "Los sistemas informatizados",
         "MISC"
        ],
        [
         "27",
         "27",
         "ICH Q8",
         "LOC"
        ],
        [
         "28",
         "28",
         "Q9",
         "ORG"
        ],
        [
         "29",
         "29",
         "Q10",
         "ORG"
        ],
        [
         "30",
         "30",
         "Q11",
         "MISC"
        ],
        [
         "31",
         "31",
         "General\nDebe",
         "LOC"
        ],
        [
         "32",
         "32",
         "La validación retrospectiva",
         "MISC"
        ],
        [
         "33",
         "33",
         "Los\ndatos",
         "MISC"
        ],
        [
         "34",
         "34",
         "1",
         "LOC"
        ],
        [
         "35",
         "35",
         "ORGANIZACIÓN",
         "MISC"
        ],
        [
         "36",
         "36",
         "Todas las actividades de cualificación",
         "MISC"
        ],
        [
         "37",
         "37",
         "1.2",
         "MISC"
        ],
        [
         "38",
         "38",
         "Las actividades de cualificación",
         "MISC"
        ],
        [
         "39",
         "39",
         "El personal de cualificación",
         "MISC"
        ],
        [
         "40",
         "40",
         "Sin embargo,",
         "MISC"
        ],
        [
         "41",
         "41",
         "MINISTERIO DE SANIDAD",
         "LOC"
        ],
        [
         "42",
         "42",
         "SERVICIOS SOCIALES\nE IGUALDAD",
         "MISC"
        ],
        [
         "43",
         "43",
         "Página 2",
         "MISC"
        ],
        [
         "44",
         "44",
         "Agencia Española de\nMedicamentos y\nProductos Sanitarios",
         "ORG"
        ],
        [
         "45",
         "45",
         "1.4",
         "MISC"
        ],
        [
         "46",
         "46",
         "Los elementos",
         "MISC"
        ],
        [
         "47",
         "47",
         "Plan Maestro de Validación",
         "MISC"
        ],
        [
         "48",
         "48",
         "1.5",
         "MISC"
        ],
        [
         "49",
         "49",
         "El PMV",
         "MISC"
        ]
       ],
       "shape": {
        "columns": 3,
        "rows": 338
       }
      },
      "text/html": [
       "<div>\n",
       "<style scoped>\n",
       "    .dataframe tbody tr th:only-of-type {\n",
       "        vertical-align: middle;\n",
       "    }\n",
       "\n",
       "    .dataframe tbody tr th {\n",
       "        vertical-align: top;\n",
       "    }\n",
       "\n",
       "    .dataframe thead th {\n",
       "        text-align: right;\n",
       "    }\n",
       "</style>\n",
       "<table border=\"1\" class=\"dataframe\">\n",
       "  <thead>\n",
       "    <tr style=\"text-align: right;\">\n",
       "      <th></th>\n",
       "      <th>index</th>\n",
       "      <th>Texto</th>\n",
       "      <th>Entidad</th>\n",
       "    </tr>\n",
       "  </thead>\n",
       "  <tbody>\n",
       "    <tr>\n",
       "      <th>0</th>\n",
       "      <td>0</td>\n",
       "      <td>DEPARTAMENTO DE\\nINSPECCIÓN Y CONTROL DE</td>\n",
       "      <td>ORG</td>\n",
       "    </tr>\n",
       "    <tr>\n",
       "      <th>1</th>\n",
       "      <td>1</td>\n",
       "      <td>MEDICAMENTOS</td>\n",
       "      <td>ORG</td>\n",
       "    </tr>\n",
       "    <tr>\n",
       "      <th>2</th>\n",
       "      <td>2</td>\n",
       "      <td>Medicamentos de Uso Humano</td>\n",
       "      <td>MISC</td>\n",
       "    </tr>\n",
       "    <tr>\n",
       "      <th>3</th>\n",
       "      <td>3</td>\n",
       "      <td>Veterinario\\nAnexo 15: Cualificación</td>\n",
       "      <td>LOC</td>\n",
       "    </tr>\n",
       "    <tr>\n",
       "      <th>4</th>\n",
       "      <td>4</td>\n",
       "      <td>Directiva</td>\n",
       "      <td>ORG</td>\n",
       "    </tr>\n",
       "    <tr>\n",
       "      <th>...</th>\n",
       "      <td>...</td>\n",
       "      <td>...</td>\n",
       "      <td>...</td>\n",
       "    </tr>\n",
       "    <tr>\n",
       "      <th>333</th>\n",
       "      <td>333</td>\n",
       "      <td>Validación</td>\n",
       "      <td>MISC</td>\n",
       "    </tr>\n",
       "    <tr>\n",
       "      <th>334</th>\n",
       "      <td>334</td>\n",
       "      <td>MINISTERIO DE SANIDAD</td>\n",
       "      <td>LOC</td>\n",
       "    </tr>\n",
       "    <tr>\n",
       "      <th>335</th>\n",
       "      <td>335</td>\n",
       "      <td>SERVICIOS SOCIALES\\nE IGUALDAD</td>\n",
       "      <td>MISC</td>\n",
       "    </tr>\n",
       "    <tr>\n",
       "      <th>336</th>\n",
       "      <td>336</td>\n",
       "      <td>Página 19 de 19\\n</td>\n",
       "      <td>MISC</td>\n",
       "    </tr>\n",
       "    <tr>\n",
       "      <th>337</th>\n",
       "      <td>337</td>\n",
       "      <td>Agencia Española de\\nMedicamentos y\\nProductos...</td>\n",
       "      <td>ORG</td>\n",
       "    </tr>\n",
       "  </tbody>\n",
       "</table>\n",
       "<p>338 rows × 3 columns</p>\n",
       "</div>"
      ],
      "text/plain": [
       "     index                                              Texto Entidad\n",
       "0        0           DEPARTAMENTO DE\\nINSPECCIÓN Y CONTROL DE     ORG\n",
       "1        1                                       MEDICAMENTOS     ORG\n",
       "2        2                         Medicamentos de Uso Humano    MISC\n",
       "3        3               Veterinario\\nAnexo 15: Cualificación     LOC\n",
       "4        4                                          Directiva     ORG\n",
       "..     ...                                                ...     ...\n",
       "333    333                                         Validación    MISC\n",
       "334    334                              MINISTERIO DE SANIDAD     LOC\n",
       "335    335                     SERVICIOS SOCIALES\\nE IGUALDAD    MISC\n",
       "336    336                                  Página 19 de 19\\n    MISC\n",
       "337    337  Agencia Española de\\nMedicamentos y\\nProductos...     ORG\n",
       "\n",
       "[338 rows x 3 columns]"
      ]
     },
     "execution_count": 15,
     "metadata": {},
     "output_type": "execute_result"
    }
   ],
   "source": [
    "# Sobre epígrafes:\n",
    "epigrafes= []\n",
    "for pagina in epigrafes_por_pagina:\n",
    "    for epigrafe in pagina:\n",
    "        for ent in nlp(epigrafe).ents:\n",
    "            epigrafes.append({\n",
    "                \"Texto\":ent.text,\n",
    "                \"Entidad\":ent.label_\n",
    "            })\n",
    "pd.DataFrame(epigrafes).reset_index()"
   ]
  },
  {
   "cell_type": "markdown",
   "id": "be0bf16d",
   "metadata": {},
   "source": [
    "#### Análisis del texto por palabras:"
   ]
  },
  {
   "cell_type": "markdown",
   "id": "05d370ec",
   "metadata": {},
   "source": [
    "- He observado que es preferible trabajar con el texto completo en lugar de fragmentado, ya que así se conserva mejor el contexto y las relaciones entre palabras.\n",
    "- La lematización depende de qué POS se le haya asignado a cada palabra y para un correcto etiquetaje de POS es necesario el contexto."
   ]
  },
  {
   "cell_type": "markdown",
   "id": "01db0ef0",
   "metadata": {},
   "source": [
    "#### Selección del modelo de spaCy:"
   ]
  },
  {
   "cell_type": "markdown",
   "id": "aed7fbae",
   "metadata": {},
   "source": [
    "- He usado el modelo en español `es_core_news_lg` al ser más completo que los modelos `sm` y `md`."
   ]
  },
  {
   "cell_type": "markdown",
   "id": "3e152a2c",
   "metadata": {},
   "source": [
    "#### Separar el df por tipo de palabra"
   ]
  },
  {
   "cell_type": "markdown",
   "id": "52ba51cd",
   "metadata": {},
   "source": [
    "- La aplicación de POS tagging no ha sido del todo precisa, hay números que se etiquetan como NOUN. "
   ]
  },
  {
   "cell_type": "markdown",
   "id": "025081b5",
   "metadata": {},
   "source": [
    "#### Simplificación del análisis"
   ]
  },
  {
   "cell_type": "markdown",
   "id": "5ab93ddf",
   "metadata": {},
   "source": [
    "- Inicialmente establecí funciones para filtrar por tipos de palabras (VERB, NOUN, ADJ, ADV) y analizar cada categoría por separado.\n",
    "- Finalmente me he decantado por un análisis más sencillo, mediante máscaras booleanas como filtros en lugar de funciones."
   ]
  },
  {
   "cell_type": "code",
   "execution_count": null,
   "id": "6869e881",
   "metadata": {},
   "outputs": [],
   "source": [
    "# Función que detecta si una celda contiene algún verbo\n",
    "def contiene_verbo(texto):\n",
    "    doc = nlp(str(texto))  # convierte a string por si hay valores nulos\n",
    "    return any(tok.pos_ == \"VERB\" for tok in doc)\n",
    "df_verbos3 = df_sn.copy()\n",
    "df_verbos3 = df_verbos3['palabras'][df_verbos3['palabras'].apply(contiene_verbo)]\n",
    "df_verbos3"
   ]
  },
  {
   "cell_type": "code",
   "execution_count": null,
   "id": "fedae02d",
   "metadata": {},
   "outputs": [],
   "source": [
    "#Sustantivos\n",
    "def contiene_sustantivo(texto):\n",
    "    doc = nlp(str(texto))  # Convierte a string por si hay valores nulos\n",
    "    return any(tok.pos_ == \"NOUN\" for tok in doc)\n",
    "df_sust = df_sn.copy()\n",
    "df_sust = df_sust['palabras'][df_sust['palabras'].apply(contiene_sustantivo)]\n",
    "df_sust"
   ]
  },
  {
   "cell_type": "code",
   "execution_count": null,
   "id": "a33e04cc",
   "metadata": {},
   "outputs": [],
   "source": [
    "#Adjetivos\n",
    "def contiene_adjetivo(texto):\n",
    "    doc = nlp(str(texto))  # Convierte a string por si hay valores nulos\n",
    "    return any(tok.pos_ == \"ADJ\" for tok in doc)\n",
    "df_adj =df_sn.copy()\n",
    "df_adj = df_adj['palabras'][df_adj['palabras'].apply(contiene_adjetivo)]\n",
    "df_adj"
   ]
  },
  {
   "cell_type": "code",
   "execution_count": null,
   "id": "9ff0a073",
   "metadata": {},
   "outputs": [],
   "source": [
    "#Otros\n",
    "def sin_sust_adj_verbos(texto):\n",
    "    doc = nlp(str(texto))  # Convertimos a string por si hay NaNs\n",
    "    return not any(tok.pos_ in [\"NOUN\", \"ADJ\", \"VERB\"] for tok in doc)\n",
    "df_otro = df_sn.copy()\n",
    "df_otro = df_otro['palabras'][df_otro['palabras'].apply(sin_sust_adj_verbos)]\n",
    "df_otro"
   ]
  },
  {
   "cell_type": "code",
   "execution_count": null,
   "id": "75ba4ec5",
   "metadata": {},
   "outputs": [],
   "source": [
    "# Combinar los df\n",
    "dfs = [df_numeros, df_verbos3, df_sust, df_adj, df_otro]\n",
    "df_comb = pd.concat([df.reset_index(drop=True) for df in dfs], axis=1)\n",
    "df_comb.columns = ['numeros','verbos', 'sustantivos', 'adjetivos', 'otros']\n",
    "df_comb"
   ]
  },
  {
   "cell_type": "code",
   "execution_count": null,
   "id": "0d0cb74b",
   "metadata": {},
   "outputs": [],
   "source": [
    "# Ordenar el contenido alfabéticamente, ignorando NaN y añadiéndolos al final:\n",
    "df_ordenado = pd.DataFrame({\n",
    "    col: sorted(df_comb[col].dropna()) + [np.nan] * df_comb[col].isna().sum()\n",
    "    for col in df_comb.columns\n",
    "})\n",
    "df_ordenado"
   ]
  }
 ],
 "metadata": {
  "kernelspec": {
   "display_name": "base",
   "language": "python",
   "name": "python3"
  },
  "language_info": {
   "codemirror_mode": {
    "name": "ipython",
    "version": 3
   },
   "file_extension": ".py",
   "mimetype": "text/x-python",
   "name": "python",
   "nbconvert_exporter": "python",
   "pygments_lexer": "ipython3",
   "version": "3.12.4"
  }
 },
 "nbformat": 4,
 "nbformat_minor": 5
}
